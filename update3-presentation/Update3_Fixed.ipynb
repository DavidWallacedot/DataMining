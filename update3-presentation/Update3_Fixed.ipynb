{
 "cells": [
  {
   "cell_type": "markdown",
   "metadata": {},
   "source": [
    "***\n",
    "***\n",
    "# __Update 3: CSC 4220__\n",
    "### *Adam Becklehimer & David Wallace*\n",
    "***\n",
    "***"
   ]
  },
  {
   "cell_type": "code",
   "execution_count": 2,
   "metadata": {},
   "outputs": [],
   "source": [
    "from __future__ import division\n",
    "import concurrent.futures\n",
    "import pandas as pd\n",
    "import numpy as np\n",
    "import re\n",
    "from scipy import stats\n",
    "\n",
    "\n",
    "\n",
    "from sklearn.neighbors import KNeighborsClassifier\n",
    "from sklearn.model_selection import cross_val_predict\n",
    "from sklearn.metrics import precision_recall_fscore_support\n",
    "from joblib import Parallel, delayed\n",
    "import multiprocessing\n",
    "from sklearn.naive_bayes import GaussianNB\n",
    "from sklearn.naive_bayes import BernoulliNB\n",
    "from sklearn.tree import DecisionTreeClassifier\n",
    "from sklearn.neural_network import MLPClassifier\n",
    "from sklearn.ensemble import RandomForestClassifier\n",
    "#from sklearn.preprocessing import LabelEncoder\n",
    "#from sklearn.preprocessing import OneHotEncoder\n",
    "#from sklearn import preprocessing\n",
    "from sklearn.preprocessing import label_binarize\n",
    "from sklearn.metrics import confusion_matrix\n",
    "from sklearn.preprocessing import StandardScaler"
   ]
  },
  {
   "cell_type": "code",
   "execution_count": 3,
   "metadata": {},
   "outputs": [
    {
     "name": "stderr",
     "output_type": "stream",
     "text": [
      "Using TensorFlow backend.\n"
     ]
    }
   ],
   "source": [
    "from keras.models import Sequential\n",
    "from keras.layers import Dense, Dropout, Conv1D, Flatten, MaxPooling1D"
   ]
  },
  {
   "cell_type": "code",
   "execution_count": 4,
   "metadata": {},
   "outputs": [],
   "source": [
    "from collections import Counter\n",
    "from imblearn.over_sampling import SMOTE"
   ]
  },
  {
   "cell_type": "markdown",
   "metadata": {},
   "source": [
    "***\n",
    "***\n",
    "## Helper Scripts\n",
    "***\n",
    "***\n"
   ]
  },
  {
   "cell_type": "code",
   "execution_count": 5,
   "metadata": {},
   "outputs": [],
   "source": [
    "def runs(lst):\n",
    "\t#\"Iterator, chunks repeated values\"\n",
    "    for j,two in enumerate(lst):\n",
    "        if j == 0:\n",
    "            one,i = two,0\n",
    "        if one!=two:\n",
    "            yield j - i,one\n",
    "            i = j\n",
    "        one=two\n",
    "    yield j - i + 1,two\n",
    "\n",
    "\n",
    "def cliffsDelta(lst1,lst2,dull = [0.147, 0.33, 0.474, ][0] ):\n",
    "    #\"Returns true if there are more than 'dull' differences\"\n",
    "    m, n = len(lst1), len(lst2)\n",
    "    lst2 = sorted(lst2)\n",
    "    j = more = less = 0\n",
    "    for repeats,x in runs(sorted(lst1)):\n",
    "        while j <= (n - 1) and lst2[j] <  x:\n",
    "            j += 1\n",
    "        more += j*repeats\n",
    "        while j <= (n - 1) and lst2[j] == x:\n",
    "            j += 1\n",
    "        less += (n - j)*repeats\n",
    "        d= (more - less) / (m*n)\n",
    "\t# return abs(d)  > dull\n",
    "    return round(abs(d), 3) ### return the clacluated cliffs delat\n",
    "\t\n",
    "\n",
    "def _cliffsDelta():\n",
    "\t#\"demo function\"\n",
    "    lst1=[1,2,3,4,5,6,7]\n",
    "    for r in [1.01,1.1,1.21, 1.5, 2]:\n",
    "        lst2=map(lambda x: x*r,lst1)\n",
    "        print (r,cliffsDelta(lst1,lst2)) # should return False\n",
    "\n",
    "def compareLists(defective_vals_for_feature, non_defective_vals_for_feature):\n",
    "\n",
    "        print ('='*25)\n",
    "        print (\"Defective values [MEDIAN]:{}, [MEAN]:{}, [COUNT]:{}\".format(np.median(list(defective_vals_for_feature)), np.mean(list(defective_vals_for_feature)), len(defective_vals_for_feature)))\n",
    "        print (\"Non Defective values [MEDIAN]:{}, [MEAN]:{}, [COUNT]:{}\".format(np.median(list(non_defective_vals_for_feature)), np.mean(list(non_defective_vals_for_feature)), len(non_defective_vals_for_feature)))\n",
    "        try:\n",
    "            TS, p = stats.mannwhitneyu(list(defective_vals_for_feature), list(non_defective_vals_for_feature), alternative='greater')\n",
    "        except ValueError:\n",
    "            TS, p = 0.0, 1.0\n",
    "        cliffs_delta = cliffsDelta(list(defective_vals_for_feature), list(non_defective_vals_for_feature))\n",
    "        print ('*'*25)\n",
    "        #print ('Feature:{}, pee value:{}, cliffs:{}'.format(feature_, p, cliffs_delta))\n",
    "        print ('pee value:{}, cliffs:{}'.format(p, cliffs_delta))\n",
    "        print ('*'*25)\n",
    "        print ('='*50)"
   ]
  },
  {
   "cell_type": "code",
   "execution_count": 8,
   "metadata": {},
   "outputs": [
    {
     "name": "stdout",
     "output_type": "stream",
     "text": [
      "<Future at 0x1a412aae80 state=running>\n"
     ]
    }
   ],
   "source": [
    "executor = concurrent.futures.ThreadPoolExecutor(max_workers=28)\n",
    "\n",
    "def read():\n",
    "    df_ = pd.read_csv('../../Update2/update2/update2.csv')\n",
    "    #df_ = pd.read_csv('~/CSC4220/update2/update2.csv', engine = 'python')\n",
    "    return df_\n",
    "\n",
    "a = executor.submit(read)\n",
    "\n",
    "print(a)"
   ]
  },
  {
   "cell_type": "code",
   "execution_count": 10,
   "metadata": {},
   "outputs": [
    {
     "name": "stdout",
     "output_type": "stream",
     "text": [
      "<Future at 0x1a412aae80 state=finished returned DataFrame>\n"
     ]
    }
   ],
   "source": [
    "print(a)"
   ]
  },
  {
   "cell_type": "markdown",
   "metadata": {},
   "source": [
    "***\n",
    "***\n",
    "# !!! Wait Here Until DataFrame returned !!!\n",
    "***\n",
    "***"
   ]
  },
  {
   "cell_type": "code",
   "execution_count": 11,
   "metadata": {},
   "outputs": [
    {
     "data": {
      "text/plain": [
       "array(['ComputationalChemistry', 'Astronomy', 'ComputationalBiology',\n",
       "       'ComputationalScience', 'ComputationalIntelligence'], dtype=object)"
      ]
     },
     "execution_count": 11,
     "metadata": {},
     "output_type": "execute_result"
    }
   ],
   "source": [
    "df_ = a.result()\n",
    "#print(df_)\n",
    "\n",
    "df_.REPO_TYPE.unique()"
   ]
  },
  {
   "cell_type": "code",
   "execution_count": 12,
   "metadata": {},
   "outputs": [],
   "source": [
    "df_comp_bio = (df_[df_['REPO_TYPE']== 'ComputationalBiology'])\n",
    "df_astronomy = (df_[df_['REPO_TYPE'] == 'Astronomy'])\n",
    "df_comp_chem = (df_[df_['REPO_TYPE'] == 'ComputationalChemistry'])\n",
    "df_comp_sci = (df_[df_['REPO_TYPE'] == 'ComputationalScience'])\n",
    "df_comp_intel = (df_[df_['REPO_TYPE'] == 'ComputationalIntelligence'])\n",
    "df_others = pd.concat([df_comp_sci, df_comp_intel], axis=0)\n",
    "\n",
    "\n",
    "df_comp_bio_full = df_comp_bio[[\"PRIOR_AGE\",\"ADD_LOC\",\"DEL_LOC\",\"TOT_LOC\", \"DEV_EXP\", \"DEV_RECENT\" , \"CHANGE_FILE_CNT\", \"SECU_FLAG\"]]\n",
    "df_astro_full = df_astronomy[[\"PRIOR_AGE\",\"ADD_LOC\",\"DEL_LOC\",\"TOT_LOC\", \"DEV_EXP\", \"DEV_RECENT\",  \"CHANGE_FILE_CNT\", \"SECU_FLAG\"]]\n",
    "df_comp_chem_full = df_comp_chem[[\"PRIOR_AGE\",\"ADD_LOC\",\"DEL_LOC\",\"TOT_LOC\", \"DEV_EXP\", \"DEV_RECENT\" , \"CHANGE_FILE_CNT\", \"SECU_FLAG\"]]\n",
    "df_others_full = df_others[[\"PRIOR_AGE\",\"ADD_LOC\",\"DEL_LOC\",\"TOT_LOC\", \"DEV_EXP\", \"DEV_RECENT\",  \"CHANGE_FILE_CNT\", \"SECU_FLAG\"]]"
   ]
  },
  {
   "cell_type": "markdown",
   "metadata": {},
   "source": [
    "***\n",
    "***\n",
    "## Mann - Whitney U Test and Effect Size\n",
    "***\n",
    "***"
   ]
  },
  {
   "cell_type": "code",
   "execution_count": 13,
   "metadata": {},
   "outputs": [],
   "source": [
    "def Mann (model,feature):\n",
    "    valid_features =[]\n",
    "    invalid_features =[]\n",
    "    for index, row in model.iterrows():\n",
    "        if(row['SECU_FLAG'] == \"NEUTRAL\"):\n",
    "            valid_features.append(row[feature])\n",
    "        else:\n",
    "            invalid_features.append(row[feature])\n",
    "   \n",
    "    #print(str(model))\n",
    "    print(\"  \")\n",
    "    print( feature)\n",
    "    print(\"\\n\")\n",
    "    compareLists(invalid_features,valid_features)\n",
    "    return 0"
   ]
  },
  {
   "cell_type": "code",
   "execution_count": 14,
   "metadata": {},
   "outputs": [
    {
     "name": "stdout",
     "output_type": "stream",
     "text": [
      "MAN WHITNEY U TEST FOR df_others\n",
      "  \n",
      "ADD_LOC\n",
      "\n",
      "\n",
      "=========================\n",
      "Defective values [MEDIAN]:49.0, [MEAN]:360.4206008583691, [COUNT]:233\n",
      "Non Defective values [MEDIAN]:23.0, [MEAN]:593.3756552125801, [COUNT]:5151\n",
      "*************************\n",
      "pee value:5.4656250954923225e-06, cliffs:0.17\n",
      "*************************\n",
      "==================================================\n",
      "MAN WHITNEY U TEST FOR df_comp_bio_full\n",
      "  \n",
      "ADD_LOC\n",
      "\n",
      "\n",
      "=========================\n",
      "Defective values [MEDIAN]:16.0, [MEAN]:524.2652541833684, [COUNT]:15717\n",
      "Non Defective values [MEDIAN]:11.0, [MEAN]:663.8411968646367, [COUNT]:159216\n",
      "*************************\n",
      "pee value:7.19411106581891e-82, cliffs:0.092\n",
      "*************************\n",
      "==================================================\n",
      "MAN WHITNEY U TEST FOR df_astro_full\n",
      "  \n",
      "ADD_LOC\n",
      "\n",
      "\n",
      "=========================\n",
      "Defective values [MEDIAN]:14.0, [MEAN]:146.26299504950495, [COUNT]:4848\n",
      "Non Defective values [MEDIAN]:11.0, [MEAN]:307.9216749871992, [COUNT]:62496\n",
      "*************************\n",
      "pee value:2.4756092002005906e-16, cliffs:0.07\n",
      "*************************\n",
      "==================================================\n",
      "MAN WHITNEY U TEST FOR df_comp_chem_full\n",
      "  \n",
      "ADD_LOC\n",
      "\n",
      "\n",
      "=========================\n",
      "Defective values [MEDIAN]:28.0, [MEAN]:1583.1567711807872, [COUNT]:2998\n",
      "Non Defective values [MEDIAN]:16.0, [MEAN]:2285.5323602647936, [COUNT]:49397\n",
      "*************************\n",
      "pee value:2.0336285177180795e-26, cliffs:0.115\n",
      "*************************\n",
      "==================================================\n",
      "MAN WHITNEY U TEST FOR df_others\n",
      "  \n",
      "PRIOR_AGE\n",
      "\n",
      "\n",
      "=========================\n",
      "Defective values [MEDIAN]:2645.0, [MEAN]:2365.772532188841, [COUNT]:233\n",
      "Non Defective values [MEDIAN]:2682.0, [MEAN]:2469.4348670161135, [COUNT]:5151\n",
      "*************************\n",
      "pee value:0.9981342553022248, cliffs:0.112\n",
      "*************************\n",
      "==================================================\n",
      "MAN WHITNEY U TEST FOR df_comp_bio_full\n",
      "  \n",
      "PRIOR_AGE\n",
      "\n",
      "\n",
      "=========================\n",
      "Defective values [MEDIAN]:1949.0, [MEAN]:1995.6268371826684, [COUNT]:15717\n",
      "Non Defective values [MEDIAN]:1937.0, [MEAN]:2059.6142661541553, [COUNT]:159216\n",
      "*************************\n",
      "pee value:0.9807042789914021, cliffs:0.01\n",
      "*************************\n",
      "==================================================\n",
      "MAN WHITNEY U TEST FOR df_astro_full\n",
      "  \n",
      "PRIOR_AGE\n",
      "\n",
      "\n",
      "=========================\n",
      "Defective values [MEDIAN]:1302.5, [MEAN]:1440.9917491749175, [COUNT]:4848\n",
      "Non Defective values [MEDIAN]:1320.0, [MEAN]:1434.130136328725, [COUNT]:62496\n",
      "*************************\n",
      "pee value:0.27880196295984894, cliffs:0.005\n",
      "*************************\n",
      "==================================================\n",
      "MAN WHITNEY U TEST FOR df_comp_chem_full\n",
      "  \n",
      "PRIOR_AGE\n",
      "\n",
      "\n",
      "=========================\n",
      "Defective values [MEDIAN]:2930.5, [MEAN]:3284.8298865910606, [COUNT]:2998\n",
      "Non Defective values [MEDIAN]:2950.0, [MEAN]:3428.899325869992, [COUNT]:49397\n",
      "*************************\n",
      "pee value:0.9673685691752782, cliffs:0.02\n",
      "*************************\n",
      "==================================================\n",
      "MAN WHITNEY U TEST FOR df_others\n",
      "  \n",
      "DEL_LOC\n",
      "\n",
      "\n",
      "=========================\n",
      "Defective values [MEDIAN]:14.0, [MEAN]:361.4549356223176, [COUNT]:233\n",
      "Non Defective values [MEDIAN]:9.0, [MEAN]:374.68608037274316, [COUNT]:5151\n",
      "*************************\n",
      "pee value:0.00147303305902131, cliffs:0.115\n",
      "*************************\n",
      "==================================================\n",
      "MAN WHITNEY U TEST FOR df_comp_bio_full\n",
      "  \n",
      "DEL_LOC\n",
      "\n",
      "\n",
      "=========================\n",
      "Defective values [MEDIAN]:5.0, [MEAN]:229.87300375389705, [COUNT]:15717\n",
      "Non Defective values [MEDIAN]:4.0, [MEAN]:472.9598784041805, [COUNT]:159216\n",
      "*************************\n",
      "pee value:5.876285859999854e-11, cliffs:0.031\n",
      "*************************\n",
      "==================================================\n",
      "MAN WHITNEY U TEST FOR df_astro_full\n",
      "  \n",
      "DEL_LOC\n",
      "\n",
      "\n",
      "=========================\n",
      "Defective values [MEDIAN]:5.0, [MEAN]:64.5039191419142, [COUNT]:4848\n",
      "Non Defective values [MEDIAN]:4.0, [MEAN]:227.36736751152074, [COUNT]:62496\n",
      "*************************\n",
      "pee value:4.196513850938514e-05, cliffs:0.034\n",
      "*************************\n",
      "==================================================\n",
      "MAN WHITNEY U TEST FOR df_comp_chem_full\n",
      "  \n",
      "DEL_LOC\n",
      "\n",
      "\n",
      "=========================\n",
      "Defective values [MEDIAN]:6.0, [MEAN]:897.7728485657104, [COUNT]:2998\n",
      "Non Defective values [MEDIAN]:5.0, [MEAN]:1412.4137498228638, [COUNT]:49397\n",
      "*************************\n",
      "pee value:9.398208441602705e-10, cliffs:0.065\n",
      "*************************\n",
      "==================================================\n",
      "MAN WHITNEY U TEST FOR df_others\n",
      "  \n",
      "TOT_LOC\n",
      "\n",
      "\n",
      "=========================\n",
      "Defective values [MEDIAN]:74.0, [MEAN]:721.8755364806867, [COUNT]:233\n",
      "Non Defective values [MEDIAN]:44.0, [MEAN]:968.0617355853233, [COUNT]:5151\n",
      "*************************\n",
      "pee value:0.00028642114326557836, cliffs:0.133\n",
      "*************************\n",
      "==================================================\n",
      "MAN WHITNEY U TEST FOR df_comp_bio_full\n",
      "  \n",
      "TOT_LOC\n",
      "\n",
      "\n",
      "=========================\n",
      "Defective values [MEDIAN]:26.0, [MEAN]:754.1382579372654, [COUNT]:15717\n",
      "Non Defective values [MEDIAN]:19.0, [MEAN]:1136.8010752688172, [COUNT]:159216\n",
      "*************************\n",
      "pee value:6.192718020241995e-47, cliffs:0.069\n",
      "*************************\n",
      "==================================================\n",
      "MAN WHITNEY U TEST FOR df_astro_full\n",
      "  \n",
      "TOT_LOC\n",
      "\n",
      "\n",
      "=========================\n",
      "Defective values [MEDIAN]:22.0, [MEAN]:210.76691419141915, [COUNT]:4848\n",
      "Non Defective values [MEDIAN]:19.0, [MEAN]:535.2890424987199, [COUNT]:62496\n",
      "*************************\n",
      "pee value:5.722975022020449e-09, cliffs:0.049\n",
      "*************************\n",
      "==================================================\n",
      "MAN WHITNEY U TEST FOR df_comp_chem_full\n",
      "  \n",
      "TOT_LOC\n",
      "\n",
      "\n",
      "=========================\n",
      "Defective values [MEDIAN]:44.0, [MEAN]:2480.929619746498, [COUNT]:2998\n",
      "Non Defective values [MEDIAN]:26.0, [MEAN]:3697.946110087657, [COUNT]:49397\n",
      "*************************\n",
      "pee value:6.601311482264931e-20, cliffs:0.098\n",
      "*************************\n",
      "==================================================\n",
      "MAN WHITNEY U TEST FOR df_others\n",
      "  \n",
      "DEV_EXP\n",
      "\n",
      "\n",
      "=========================\n",
      "Defective values [MEDIAN]:565.0, [MEAN]:602.6738197424893, [COUNT]:233\n",
      "Non Defective values [MEDIAN]:521.0, [MEAN]:518.986022131625, [COUNT]:5151\n",
      "*************************\n",
      "pee value:0.00034586308637301824, cliffs:0.13\n",
      "*************************\n",
      "==================================================\n",
      "MAN WHITNEY U TEST FOR df_comp_bio_full\n",
      "  \n",
      "DEV_EXP\n",
      "\n",
      "\n",
      "=========================\n",
      "Defective values [MEDIAN]:2308.0, [MEAN]:2825.6417255201372, [COUNT]:15717\n",
      "Non Defective values [MEDIAN]:1667.0, [MEAN]:2271.238204703045, [COUNT]:159216\n",
      "*************************\n",
      "pee value:2.494983410363994e-152, cliffs:0.127\n",
      "*************************\n",
      "==================================================\n",
      "MAN WHITNEY U TEST FOR df_astro_full\n",
      "  \n",
      "DEV_EXP\n",
      "\n",
      "\n",
      "=========================\n",
      "Defective values [MEDIAN]:794.0, [MEAN]:1221.648514851485, [COUNT]:4848\n",
      "Non Defective values [MEDIAN]:801.0, [MEAN]:1287.379640296979, [COUNT]:62496\n",
      "*************************\n",
      "pee value:0.9999999824857182, cliffs:0.047\n",
      "*************************\n",
      "==================================================\n",
      "MAN WHITNEY U TEST FOR df_comp_chem_full\n",
      "  \n",
      "DEV_EXP\n",
      "\n",
      "\n",
      "=========================\n",
      "Defective values [MEDIAN]:897.0, [MEAN]:1088.8122081387592, [COUNT]:2998\n",
      "Non Defective values [MEDIAN]:908.0, [MEAN]:1336.4673158288965, [COUNT]:49397\n",
      "*************************\n",
      "pee value:0.9999999993721725, cliffs:0.066\n",
      "*************************\n",
      "==================================================\n",
      "MAN WHITNEY U TEST FOR df_others\n",
      "  \n",
      "DEV_RECENT\n",
      "\n",
      "\n",
      "=========================\n",
      "Defective values [MEDIAN]:284.5, [MEAN]:202.63726145922746, [COUNT]:233\n",
      "Non Defective values [MEDIAN]:148.46905, [MEAN]:196.79182006988935, [COUNT]:5151\n",
      "*************************\n",
      "pee value:0.41474560966472557, cliffs:0.008\n",
      "*************************\n",
      "==================================================\n",
      "MAN WHITNEY U TEST FOR df_comp_bio_full\n",
      "  \n",
      "DEV_RECENT\n",
      "\n",
      "\n",
      "=========================\n",
      "Defective values [MEDIAN]:641.5, [MEAN]:861.311542933766, [COUNT]:15717\n",
      "Non Defective values [MEDIAN]:416.75159, [MEAN]:635.6914109125966, [COUNT]:159216\n",
      "*************************\n",
      "pee value:3.282894799164704e-262, cliffs:0.167\n",
      "*************************\n",
      "==================================================\n",
      "MAN WHITNEY U TEST FOR df_astro_full\n",
      "  \n",
      "DEV_RECENT\n",
      "\n",
      "\n",
      "=========================\n",
      "Defective values [MEDIAN]:253.1369, [MEAN]:378.27465767120464, [COUNT]:4848\n",
      "Non Defective values [MEDIAN]:272.16667, [MEAN]:419.50819304467484, [COUNT]:62496\n",
      "*************************\n",
      "pee value:0.9999999999999996, cliffs:0.069\n",
      "*************************\n",
      "==================================================\n",
      "MAN WHITNEY U TEST FOR df_comp_chem_full\n",
      "  \n",
      "DEV_RECENT\n",
      "\n",
      "\n",
      "=========================\n",
      "Defective values [MEDIAN]:226.35476, [MEAN]:229.0516628719146, [COUNT]:2998\n",
      "Non Defective values [MEDIAN]:200.50238, [MEAN]:256.8828277733466, [COUNT]:49397\n",
      "*************************\n",
      "pee value:0.9964186493408792, cliffs:0.029\n",
      "*************************\n",
      "==================================================\n",
      "MAN WHITNEY U TEST FOR df_others\n",
      "  \n",
      "CHANGE_FILE_CNT\n",
      "\n",
      "\n",
      "=========================\n",
      "Defective values [MEDIAN]:2.0, [MEAN]:24.510729613733904, [COUNT]:233\n",
      "Non Defective values [MEDIAN]:2.0, [MEAN]:12.26227916909338, [COUNT]:5151\n",
      "*************************\n",
      "pee value:0.02750644740917249, cliffs:0.072\n",
      "*************************\n",
      "==================================================\n",
      "MAN WHITNEY U TEST FOR df_comp_bio_full\n",
      "  \n",
      "CHANGE_FILE_CNT\n",
      "\n",
      "\n",
      "=========================\n",
      "Defective values [MEDIAN]:2.0, [MEAN]:7.046764649742317, [COUNT]:15717\n",
      "Non Defective values [MEDIAN]:1.0, [MEAN]:8.001036328007235, [COUNT]:159216\n",
      "*************************\n",
      "pee value:1.4179917426099934e-32, cliffs:0.054\n",
      "*************************\n",
      "==================================================\n",
      "MAN WHITNEY U TEST FOR df_astro_full\n",
      "  \n",
      "CHANGE_FILE_CNT\n",
      "\n",
      "\n",
      "=========================\n",
      "Defective values [MEDIAN]:1.0, [MEAN]:3.8372524752475248, [COUNT]:4848\n",
      "Non Defective values [MEDIAN]:1.0, [MEAN]:4.916426651305684, [COUNT]:62496\n",
      "*************************\n",
      "pee value:0.967417944828221, cliffs:0.014\n",
      "*************************\n",
      "==================================================\n",
      "MAN WHITNEY U TEST FOR df_comp_chem_full\n",
      "  \n",
      "CHANGE_FILE_CNT\n",
      "\n",
      "\n",
      "=========================\n",
      "Defective values [MEDIAN]:2.0, [MEAN]:15.309873248832554, [COUNT]:2998\n",
      "Non Defective values [MEDIAN]:1.0, [MEAN]:12.104702714739762, [COUNT]:49397\n",
      "*************************\n",
      "pee value:6.604763597381699e-07, cliffs:0.049\n",
      "*************************\n",
      "==================================================\n"
     ]
    },
    {
     "data": {
      "text/plain": [
       "0"
      ]
     },
     "execution_count": 14,
     "metadata": {},
     "output_type": "execute_result"
    }
   ],
   "source": [
    "print(\"MAN WHITNEY U TEST FOR df_others\")\n",
    "Mann(df_others_full,\"ADD_LOC\")\n",
    "print(\"MAN WHITNEY U TEST FOR df_comp_bio_full\")\n",
    "Mann(df_comp_bio_full,\"ADD_LOC\")\n",
    "print(\"MAN WHITNEY U TEST FOR df_astro_full\")\n",
    "Mann(df_astro_full,\"ADD_LOC\")\n",
    "print(\"MAN WHITNEY U TEST FOR df_comp_chem_full\")\n",
    "Mann(df_comp_chem_full,\"ADD_LOC\")\n",
    "\n",
    "print(\"MAN WHITNEY U TEST FOR df_others\")\n",
    "Mann(df_others_full,\"PRIOR_AGE\")\n",
    "print(\"MAN WHITNEY U TEST FOR df_comp_bio_full\")\n",
    "Mann(df_comp_bio_full,\"PRIOR_AGE\")\n",
    "print(\"MAN WHITNEY U TEST FOR df_astro_full\")\n",
    "Mann(df_astro_full,\"PRIOR_AGE\")\n",
    "print(\"MAN WHITNEY U TEST FOR df_comp_chem_full\")\n",
    "Mann(df_comp_chem_full,\"PRIOR_AGE\")\n",
    "\n",
    "\n",
    "print(\"MAN WHITNEY U TEST FOR df_others\")\n",
    "Mann(df_others_full,\"DEL_LOC\")\n",
    "print(\"MAN WHITNEY U TEST FOR df_comp_bio_full\")\n",
    "Mann(df_comp_bio_full,\"DEL_LOC\")\n",
    "print(\"MAN WHITNEY U TEST FOR df_astro_full\")\n",
    "Mann(df_astro_full,\"DEL_LOC\")\n",
    "print(\"MAN WHITNEY U TEST FOR df_comp_chem_full\")\n",
    "Mann(df_comp_chem_full,\"DEL_LOC\")\n",
    "\n",
    "\n",
    "\n",
    "print(\"MAN WHITNEY U TEST FOR df_others\")\n",
    "Mann(df_others_full,\"TOT_LOC\")\n",
    "print(\"MAN WHITNEY U TEST FOR df_comp_bio_full\")\n",
    "Mann(df_comp_bio_full,\"TOT_LOC\")\n",
    "print(\"MAN WHITNEY U TEST FOR df_astro_full\")\n",
    "Mann(df_astro_full,\"TOT_LOC\")\n",
    "print(\"MAN WHITNEY U TEST FOR df_comp_chem_full\")\n",
    "Mann(df_comp_chem_full,\"TOT_LOC\")\n",
    "\n",
    "\n",
    "print(\"MAN WHITNEY U TEST FOR df_others\")\n",
    "Mann(df_others_full,\"DEV_EXP\")\n",
    "print(\"MAN WHITNEY U TEST FOR df_comp_bio_full\")\n",
    "Mann(df_comp_bio_full,\"DEV_EXP\")\n",
    "print(\"MAN WHITNEY U TEST FOR df_astro_full\")\n",
    "Mann(df_astro_full,\"DEV_EXP\")\n",
    "print(\"MAN WHITNEY U TEST FOR df_comp_chem_full\")\n",
    "Mann(df_comp_chem_full,\"DEV_EXP\")\n",
    "\n",
    "\n",
    "print(\"MAN WHITNEY U TEST FOR df_others\")\n",
    "Mann(df_others_full,\"DEV_RECENT\")\n",
    "print(\"MAN WHITNEY U TEST FOR df_comp_bio_full\")\n",
    "Mann(df_comp_bio_full,\"DEV_RECENT\")\n",
    "print(\"MAN WHITNEY U TEST FOR df_astro_full\")\n",
    "Mann(df_astro_full,\"DEV_RECENT\")\n",
    "print(\"MAN WHITNEY U TEST FOR df_comp_chem_full\")\n",
    "Mann(df_comp_chem_full,\"DEV_RECENT\")\n",
    "\n",
    "\n",
    "\n",
    "\n",
    "print(\"MAN WHITNEY U TEST FOR df_others\")\n",
    "Mann(df_others_full,\"CHANGE_FILE_CNT\")\n",
    "print(\"MAN WHITNEY U TEST FOR df_comp_bio_full\")\n",
    "Mann(df_comp_bio_full,\"CHANGE_FILE_CNT\")\n",
    "print(\"MAN WHITNEY U TEST FOR df_astro_full\")\n",
    "Mann(df_astro_full,\"CHANGE_FILE_CNT\")\n",
    "print(\"MAN WHITNEY U TEST FOR df_comp_chem_full\")\n",
    "Mann(df_comp_chem_full,\"CHANGE_FILE_CNT\")\n"
   ]
  },
  {
   "cell_type": "markdown",
   "metadata": {},
   "source": [
    "***\n",
    "***\n",
    "# General Transfer Learning\n",
    "### Just Setup Stuff Here\n",
    "***\n",
    "***"
   ]
  },
  {
   "cell_type": "code",
   "execution_count": 12,
   "metadata": {},
   "outputs": [],
   "source": [
    "def run_transfer_model(model, train_X, train_y, target_X, target_y):\n",
    "    \n",
    "    train_y = np.ravel(train_y)\n",
    "    target_y = np.ravel(target_y)\n",
    "    \n",
    "    model.fit(train_X, train_y)\n",
    "    y_predi = model.predict(target_X)\n",
    "    print(precision_recall_fscore_support(target_y, y_predi,average = None))\n",
    "    print(confusion_matrix(target_y, y_predi))"
   ]
  },
  {
   "cell_type": "code",
   "execution_count": 13,
   "metadata": {},
   "outputs": [
    {
     "name": "stdout",
     "output_type": "stream",
     "text": [
      "(174933, 1) (67344, 1) (52395, 1) (5384, 1)\n",
      "[[0]\n",
      " [0]\n",
      " [0]\n",
      " ...\n",
      " [0]\n",
      " [0]\n",
      " [0]]\n"
     ]
    }
   ],
   "source": [
    "Bio_Xy = df_comp_bio_full.to_numpy()\n",
    "Bio_X = Bio_Xy[:,0:7]\n",
    "Bio_y = Bio_Xy[:,7]\n",
    "\n",
    "Astro_Xy = df_astro_full.to_numpy()\n",
    "Astro_X = Astro_Xy[:,0:7]\n",
    "Astro_y = Astro_Xy[:,7]\n",
    "\n",
    "Chem_Xy = df_comp_chem_full.to_numpy()\n",
    "Chem_X = Chem_Xy[:,0:7]\n",
    "Chem_y = Chem_Xy[:,7]\n",
    "\n",
    "Others_Xy = df_others_full.to_numpy()\n",
    "Others_X = Others_Xy[:,0:7]\n",
    "Others_y = Others_Xy[:,7]\n",
    "\n",
    "\n",
    "#le = preprocessing.LabelEncoder()\n",
    "#\n",
    "#Bio_y = le.fit_transform(Bio_y)\n",
    "#Astro_y = le.fit_transform(Astro_y)\n",
    "\n",
    "Bio_y = label_binarize(np.ravel(Bio_y), classes=['NEUTRAL', 'INSECURE'])\n",
    "Astro_y = label_binarize(np.ravel(Astro_y), classes=['NEUTRAL', 'INSECURE'])\n",
    "Chem_y = label_binarize(np.ravel(Chem_y), classes=['NEUTRAL', 'INSECURE'])\n",
    "Others_y = label_binarize(np.ravel(Others_y), classes=['NEUTRAL', 'INSECURE'])\n",
    "\n",
    "print(Bio_y.shape, Astro_y.shape, Chem_y.shape, Others_y.shape)\n",
    "print(Others_y)"
   ]
  },
  {
   "cell_type": "markdown",
   "metadata": {},
   "source": [
    "***\n",
    "***\n",
    "# SMOTE OPs\n",
    "***\n",
    "***"
   ]
  },
  {
   "cell_type": "code",
   "execution_count": 14,
   "metadata": {},
   "outputs": [],
   "source": [
    "sm = SMOTE(random_state=42)\n",
    "Bio_X_res, Bio_y_res = sm.fit_resample(Bio_X, np.ravel(Bio_y))\n",
    "Astro_X_res, Astro_y_res = sm.fit_resample(Astro_X, np.ravel(Astro_y))\n",
    "Chem_X_res, Chem_y_res = sm.fit_resample(Chem_X, np.ravel(Chem_y))\n",
    "Others_X_res, Others_y_res = sm.fit_resample(Others_X, np.ravel(Others_y))"
   ]
  },
  {
   "cell_type": "markdown",
   "metadata": {},
   "source": [
    "***\n",
    "***\n",
    "# Deep Learning With Keras\n",
    "***\n",
    "***"
   ]
  },
  {
   "cell_type": "code",
   "execution_count": 62,
   "metadata": {},
   "outputs": [],
   "source": [
    "model = Sequential()\n",
    "model.add(Dense(15, input_dim=7, activation='relu'))\n",
    "#model.add(Conv1D(4, kernel_size=2, activation='relu'))\n",
    "#model.add(Dropout(0.50))\n",
    "#model.add(MaxPooling1D(pool_size=2))\n",
    "#model.add(Flatten())\n",
    "#model.add(Dense(75, activation='relu'))\n",
    "#model.add(Dropout(0.25))\n",
    "#model.add(Dense(15, activation='relu'))\n",
    "#model.add(Dropout(0.125))\n",
    "model.add(Dense(7, activation='relu'))\n",
    "model.add(Dense(1, activation='sigmoid'))\n",
    "\n",
    "model.compile(loss='binary_crossentropy', optimizer='adam', metrics=['accuracy'])"
   ]
  },
  {
   "cell_type": "code",
   "execution_count": 63,
   "metadata": {},
   "outputs": [
    {
     "name": "stdout",
     "output_type": "stream",
     "text": [
      "Epoch 1/1\n",
      "318432/318432 [==============================] - 16s 51us/step - loss: 0.6212 - accuracy: 0.6374\n",
      "(array([0.92382768, 0.06592207]), array([0.58917371, 0.37376238]), array([0.71949039, 0.1120767 ]), array([62496,  4848]))\n",
      "[[36821 25675]\n",
      " [ 3036  1812]]\n",
      "&&&&&&&&&&&&&&&&&&&&&&&&&&&&&&&&&&&&&&&&&&&&&&&&&&&&&&&&&&&&&&&&&&&&&&&&&&&&&&\n",
      "&&&&&&&&&&&&&&&&&&&&&&&&&&&&&&&&&&&&&&&&&&&&&&&&&&&&&&&&&&&&&&&&&&&&&&&&&&&&&&\n",
      "(array([0.94293203, 0.05773092]), array([0.77201045, 0.23015344]), array([0.8489537 , 0.09230769]), array([49397,  2998]))\n",
      "[[38135 11262]\n",
      " [ 2308   690]]\n",
      "&&&&&&&&&&&&&&&&&&&&&&&&&&&&&&&&&&&&&&&&&&&&&&&&&&&&&&&&&&&&&&&&&&&&&&&&&&&&&&\n",
      "&&&&&&&&&&&&&&&&&&&&&&&&&&&&&&&&&&&&&&&&&&&&&&&&&&&&&&&&&&&&&&&&&&&&&&&&&&&&&&\n",
      "(array([0.95735805, 0.04583723]), array([0.8019802 , 0.21030043]), array([0.87280794, 0.07526882]), array([5151,  233]))\n",
      "[[4131 1020]\n",
      " [ 184   49]]\n"
     ]
    }
   ],
   "source": [
    "sc = StandardScaler()\n",
    "X = sc.fit_transform(Bio_X_res)\n",
    "\n",
    "model.fit(X, Bio_y_res, epochs=1, batch_size=25)\n",
    "\n",
    "predictions = model.predict_classes(Astro_X)\n",
    "\n",
    "print(precision_recall_fscore_support(Astro_y, predictions,average = None))\n",
    "print(confusion_matrix(Astro_y, predictions))\n",
    "print(\"&&&&&&&&&&&&&&&&&&&&&&&&&&&&&&&&&&&&&&&&&&&&&&&&&&&&&&&&&&&&&&&&&&&&&&&&&&&&&&\")\n",
    "print(\"&&&&&&&&&&&&&&&&&&&&&&&&&&&&&&&&&&&&&&&&&&&&&&&&&&&&&&&&&&&&&&&&&&&&&&&&&&&&&&\")\n",
    "predictions = model.predict_classes(Chem_X)\n",
    "\n",
    "print(precision_recall_fscore_support(Chem_y, predictions,average = None))\n",
    "print(confusion_matrix(Chem_y, predictions))\n",
    "print(\"&&&&&&&&&&&&&&&&&&&&&&&&&&&&&&&&&&&&&&&&&&&&&&&&&&&&&&&&&&&&&&&&&&&&&&&&&&&&&&\")\n",
    "print(\"&&&&&&&&&&&&&&&&&&&&&&&&&&&&&&&&&&&&&&&&&&&&&&&&&&&&&&&&&&&&&&&&&&&&&&&&&&&&&&\")\n",
    "predictions = model.predict_classes(Others_X)\n",
    "\n",
    "print(precision_recall_fscore_support(Others_y, predictions,average = None))\n",
    "print(confusion_matrix(Others_y, predictions))"
   ]
  },
  {
   "cell_type": "code",
   "execution_count": 64,
   "metadata": {},
   "outputs": [
    {
     "name": "stdout",
     "output_type": "stream",
     "text": [
      "Epoch 1/1\n",
      "124992/124992 [==============================] - 6s 50us/step - loss: 0.6848 - accuracy: 0.5427\n",
      "(array([0.91013896, 0.08941453]), array([0.96590795, 0.03391232]), array([0.93719453, 0.04917428]), array([159216,  15717]))\n",
      "[[153788   5428]\n",
      " [ 15184    533]]\n",
      "&&&&&&&&&&&&&&&&&&&&&&&&&&&&&&&&&&&&&&&&&&&&&&&&&&&&&&&&&&&&&&&&&&&&&&&&&&&&&&\n",
      "&&&&&&&&&&&&&&&&&&&&&&&&&&&&&&&&&&&&&&&&&&&&&&&&&&&&&&&&&&&&&&&&&&&&&&&&&&&&&&\n",
      "(array([0.94281498, 0.05768164]), array([0.9312104 , 0.06937959]), array([0.93697676, 0.06299213]), array([49397,  2998]))\n",
      "[[45999  3398]\n",
      " [ 2790   208]]\n",
      "&&&&&&&&&&&&&&&&&&&&&&&&&&&&&&&&&&&&&&&&&&&&&&&&&&&&&&&&&&&&&&&&&&&&&&&&&&&&&&\n",
      "&&&&&&&&&&&&&&&&&&&&&&&&&&&&&&&&&&&&&&&&&&&&&&&&&&&&&&&&&&&&&&&&&&&&&&&&&&&&&&\n",
      "(array([0.95675355, 0.04375   ]), array([0.94059406, 0.06008584]), array([0.94860499, 0.05063291]), array([5151,  233]))\n",
      "[[4845  306]\n",
      " [ 219   14]]\n"
     ]
    }
   ],
   "source": [
    "sc = StandardScaler()\n",
    "X = sc.fit_transform(Astro_X_res)\n",
    "\n",
    "model.fit(X, Astro_y_res, epochs=1, batch_size=25)\n",
    "\n",
    "predictions = model.predict_classes(Bio_X)\n",
    "\n",
    "print(precision_recall_fscore_support(Bio_y, predictions,average = None))\n",
    "print(confusion_matrix(Bio_y, predictions))\n",
    "print(\"&&&&&&&&&&&&&&&&&&&&&&&&&&&&&&&&&&&&&&&&&&&&&&&&&&&&&&&&&&&&&&&&&&&&&&&&&&&&&&\")\n",
    "print(\"&&&&&&&&&&&&&&&&&&&&&&&&&&&&&&&&&&&&&&&&&&&&&&&&&&&&&&&&&&&&&&&&&&&&&&&&&&&&&&\")\n",
    "predictions = model.predict_classes(Chem_X)\n",
    "\n",
    "print(precision_recall_fscore_support(Chem_y, predictions,average = None))\n",
    "print(confusion_matrix(Chem_y, predictions))\n",
    "print(\"&&&&&&&&&&&&&&&&&&&&&&&&&&&&&&&&&&&&&&&&&&&&&&&&&&&&&&&&&&&&&&&&&&&&&&&&&&&&&&\")\n",
    "print(\"&&&&&&&&&&&&&&&&&&&&&&&&&&&&&&&&&&&&&&&&&&&&&&&&&&&&&&&&&&&&&&&&&&&&&&&&&&&&&&\")\n",
    "predictions = model.predict_classes(Others_X)\n",
    "\n",
    "print(precision_recall_fscore_support(Others_y, predictions,average = None))\n",
    "print(confusion_matrix(Others_y, predictions))"
   ]
  },
  {
   "cell_type": "code",
   "execution_count": 65,
   "metadata": {},
   "outputs": [
    {
     "name": "stdout",
     "output_type": "stream",
     "text": [
      "Epoch 1/1\n",
      "98794/98794 [==============================] - 12s 122us/step - loss: 0.6696 - accuracy: 0.5886\n",
      "(array([0.91010084, 0.05921053]), array([0.9982037 , 0.00114526]), array([0.9521185 , 0.00224705]), array([159216,  15717]))\n",
      "[[158930    286]\n",
      " [ 15699     18]]\n",
      "&&&&&&&&&&&&&&&&&&&&&&&&&&&&&&&&&&&&&&&&&&&&&&&&&&&&&&&&&&&&&&&&&&&&&&&&&&&&&&\n",
      "&&&&&&&&&&&&&&&&&&&&&&&&&&&&&&&&&&&&&&&&&&&&&&&&&&&&&&&&&&&&&&&&&&&&&&&&&&&&&&\n",
      "(array([0.92794935, 0.        ]), array([0.99907194, 0.        ]), array([0.96219815, 0.        ]), array([62496,  4848]))\n",
      "[[62438    58]\n",
      " [ 4848     0]]\n",
      "&&&&&&&&&&&&&&&&&&&&&&&&&&&&&&&&&&&&&&&&&&&&&&&&&&&&&&&&&&&&&&&&&&&&&&&&&&&&&&\n",
      "&&&&&&&&&&&&&&&&&&&&&&&&&&&&&&&&&&&&&&&&&&&&&&&&&&&&&&&&&&&&&&&&&&&&&&&&&&&&&&\n",
      "(array([0.95685326, 0.14285714]), array([0.99883518, 0.00429185]), array([0.97739362, 0.00833333]), array([5151,  233]))\n",
      "[[5145    6]\n",
      " [ 232    1]]\n"
     ]
    }
   ],
   "source": [
    "sc = StandardScaler()\n",
    "X = sc.fit_transform(Chem_X_res)\n",
    "\n",
    "model.fit(X, Chem_y_res, epochs=1, batch_size=10)\n",
    "\n",
    "predictions = model.predict_classes(Bio_X)\n",
    "\n",
    "print(precision_recall_fscore_support(Bio_y, predictions,average = None))\n",
    "print(confusion_matrix(Bio_y, predictions))\n",
    "print(\"&&&&&&&&&&&&&&&&&&&&&&&&&&&&&&&&&&&&&&&&&&&&&&&&&&&&&&&&&&&&&&&&&&&&&&&&&&&&&&\")\n",
    "print(\"&&&&&&&&&&&&&&&&&&&&&&&&&&&&&&&&&&&&&&&&&&&&&&&&&&&&&&&&&&&&&&&&&&&&&&&&&&&&&&\")\n",
    "predictions = model.predict_classes(Astro_X)\n",
    "\n",
    "print(precision_recall_fscore_support(Astro_y, predictions,average = None))\n",
    "print(confusion_matrix(Astro_y, predictions))\n",
    "print(\"&&&&&&&&&&&&&&&&&&&&&&&&&&&&&&&&&&&&&&&&&&&&&&&&&&&&&&&&&&&&&&&&&&&&&&&&&&&&&&\")\n",
    "print(\"&&&&&&&&&&&&&&&&&&&&&&&&&&&&&&&&&&&&&&&&&&&&&&&&&&&&&&&&&&&&&&&&&&&&&&&&&&&&&&\")\n",
    "predictions = model.predict_classes(Others_X)\n",
    "\n",
    "print(precision_recall_fscore_support(Others_y, predictions,average = None))\n",
    "print(confusion_matrix(Others_y, predictions))"
   ]
  },
  {
   "cell_type": "markdown",
   "metadata": {},
   "source": [
    "***\n",
    "***\n",
    "# Traditional Learner Application\n",
    "## Regular Datasets VS SMOTE Datasets\n",
    "***\n",
    "***"
   ]
  },
  {
   "cell_type": "markdown",
   "metadata": {},
   "source": [
    "***\n",
    "### Bio -> Astro \n",
    "***"
   ]
  },
  {
   "cell_type": "code",
   "execution_count": 66,
   "metadata": {},
   "outputs": [
    {
     "name": "stdout",
     "output_type": "stream",
     "text": [
      "(array([0.92764458, 0.06862152]), array([0.90140169, 0.09364686]), array([0.91433487, 0.07920447]), array([62496,  4848]))\n",
      "[[56334  6162]\n",
      " [ 4394   454]]\n",
      "~~~~~~~~~~~~~~~~~~~~~~~~~~~~~~~~~~~~~~~~~~~~~~~~~~~~~~~\n",
      "~~~~~~~~~~~~~~~~~~~~~~~~~~~~~~~~~~~~~~~~~~~~~~~~~~~~~~~\n",
      "(array([0.92683867, 0.06701432]), array([0.80819572, 0.17759901]), array([0.86346075, 0.09731013]), array([62496,  4848]))\n",
      "[[50509 11987]\n",
      " [ 3987   861]]\n"
     ]
    }
   ],
   "source": [
    "clf = DecisionTreeClassifier(random_state=37)\n",
    "\n",
    "run_transfer_model(clf, Bio_X, Bio_y, Astro_X, Astro_y)\n",
    "print(\"~~~~~~~~~~~~~~~~~~~~~~~~~~~~~~~~~~~~~~~~~~~~~~~~~~~~~~~\")\n",
    "print(\"~~~~~~~~~~~~~~~~~~~~~~~~~~~~~~~~~~~~~~~~~~~~~~~~~~~~~~~\")\n",
    "run_transfer_model(clf, Bio_X_res, Bio_y_res, Astro_X, Astro_y)"
   ]
  },
  {
   "cell_type": "code",
   "execution_count": 67,
   "metadata": {},
   "outputs": [
    {
     "name": "stdout",
     "output_type": "stream",
     "text": [
      "(array([0.92802218, 0.07313196]), array([0.9906714 , 0.00948845]), array([0.95832398, 0.01679752]), array([62496,  4848]))\n",
      "[[61913   583]\n",
      " [ 4802    46]]\n",
      "~~~~~~~~~~~~~~~~~~~~~~~~~~~~~~~~~~~~~~~~~~~~~~~~~~~~~~~\n",
      "~~~~~~~~~~~~~~~~~~~~~~~~~~~~~~~~~~~~~~~~~~~~~~~~~~~~~~~\n",
      "(array([0.92871982, 0.07420343]), array([0.75824053, 0.24979373]), array([0.8348661 , 0.11441799]), array([62496,  4848]))\n",
      "[[47387 15109]\n",
      " [ 3637  1211]]\n"
     ]
    }
   ],
   "source": [
    "clf = KNeighborsClassifier(n_neighbors = 547)\n",
    "\n",
    "run_transfer_model(clf, Bio_X, Bio_y, Astro_X, Astro_y)\n",
    "print(\"~~~~~~~~~~~~~~~~~~~~~~~~~~~~~~~~~~~~~~~~~~~~~~~~~~~~~~~\")\n",
    "print(\"~~~~~~~~~~~~~~~~~~~~~~~~~~~~~~~~~~~~~~~~~~~~~~~~~~~~~~~\")\n",
    "run_transfer_model(clf, Bio_X_res, Bio_y_res, Astro_X, Astro_y)"
   ]
  },
  {
   "cell_type": "code",
   "execution_count": 68,
   "metadata": {},
   "outputs": [
    {
     "name": "stdout",
     "output_type": "stream",
     "text": [
      "(array([0.9280114, 0.       ]), array([1., 0.]), array([0.96266174, 0.        ]), array([62496,  4848]))\n",
      "[[62496     0]\n",
      " [ 4848     0]]\n",
      "~~~~~~~~~~~~~~~~~~~~~~~~~~~~~~~~~~~~~~~~~~~~~~~~~~~~~~~\n",
      "~~~~~~~~~~~~~~~~~~~~~~~~~~~~~~~~~~~~~~~~~~~~~~~~~~~~~~~\n",
      "(array([0.94785276, 0.07617609]), array([0.17799539, 0.87376238]), array([0.29970902, 0.14013497]), array([62496,  4848]))\n",
      "[[11124 51372]\n",
      " [  612  4236]]\n"
     ]
    },
    {
     "name": "stderr",
     "output_type": "stream",
     "text": [
      "/home/tntech.edu/ambecklehi42/.conda/envs/tf-2.0/lib/python3.7/site-packages/sklearn/metrics/classification.py:1437: UndefinedMetricWarning: Precision and F-score are ill-defined and being set to 0.0 in labels with no predicted samples.\n",
      "  'precision', 'predicted', average, warn_for)\n"
     ]
    }
   ],
   "source": [
    "clf = BernoulliNB()\n",
    "\n",
    "run_transfer_model(clf, Bio_X, Bio_y, Astro_X, Astro_y)\n",
    "print(\"~~~~~~~~~~~~~~~~~~~~~~~~~~~~~~~~~~~~~~~~~~~~~~~~~~~~~~~\")\n",
    "print(\"~~~~~~~~~~~~~~~~~~~~~~~~~~~~~~~~~~~~~~~~~~~~~~~~~~~~~~~\")\n",
    "run_transfer_model(clf, Bio_X_res, Bio_y_res, Astro_X, Astro_y)  "
   ]
  },
  {
   "cell_type": "code",
   "execution_count": 69,
   "metadata": {},
   "outputs": [
    {
     "name": "stdout",
     "output_type": "stream",
     "text": [
      "(array([0.9280817 , 0.07304846]), array([0.93786802, 0.06311881]), array([0.9329492 , 0.06772159]), array([62496,  4848]))\n",
      "[[58613  3883]\n",
      " [ 4542   306]]\n",
      "~~~~~~~~~~~~~~~~~~~~~~~~~~~~~~~~~~~~~~~~~~~~~~~~~~~~~~~\n",
      "~~~~~~~~~~~~~~~~~~~~~~~~~~~~~~~~~~~~~~~~~~~~~~~~~~~~~~~\n",
      "(array([0.92940264, 0.07401862]), array([0.59424603, 0.41811056]), array([0.72496218, 0.12577172]), array([62496,  4848]))\n",
      "[[37138 25358]\n",
      " [ 2821  2027]]\n"
     ]
    }
   ],
   "source": [
    "clf = MLPClassifier(solver='lbfgs', alpha=1e-5, random_state=1)\n",
    "\n",
    "run_transfer_model(clf, Bio_X, Bio_y, Astro_X, Astro_y)\n",
    "print(\"~~~~~~~~~~~~~~~~~~~~~~~~~~~~~~~~~~~~~~~~~~~~~~~~~~~~~~~\")\n",
    "print(\"~~~~~~~~~~~~~~~~~~~~~~~~~~~~~~~~~~~~~~~~~~~~~~~~~~~~~~~\")\n",
    "run_transfer_model(clf, Bio_X_res, Bio_y_res, Astro_X, Astro_y)"
   ]
  },
  {
   "cell_type": "code",
   "execution_count": 70,
   "metadata": {},
   "outputs": [
    {
     "name": "stderr",
     "output_type": "stream",
     "text": [
      "/home/tntech.edu/ambecklehi42/.conda/envs/tf-2.0/lib/python3.7/site-packages/sklearn/metrics/classification.py:1437: UndefinedMetricWarning: Precision and F-score are ill-defined and being set to 0.0 in labels with no predicted samples.\n",
      "  'precision', 'predicted', average, warn_for)\n"
     ]
    },
    {
     "name": "stdout",
     "output_type": "stream",
     "text": [
      "(array([0.9280114, 0.       ]), array([1., 0.]), array([0.96266174, 0.        ]), array([62496,  4848]))\n",
      "[[62496     0]\n",
      " [ 4848     0]]\n",
      "~~~~~~~~~~~~~~~~~~~~~~~~~~~~~~~~~~~~~~~~~~~~~~~~~~~~~~~\n",
      "~~~~~~~~~~~~~~~~~~~~~~~~~~~~~~~~~~~~~~~~~~~~~~~~~~~~~~~\n",
      "(array([0.92622174, 0.06951664]), array([0.57893305, 0.40552805]), array([0.71251194, 0.11868755]), array([62496,  4848]))\n",
      "[[36181 26315]\n",
      " [ 2882  1966]]\n"
     ]
    }
   ],
   "source": [
    "clf = RandomForestClassifier(n_estimators=100, max_depth=2, random_state=0)\n",
    "\n",
    "run_transfer_model(clf, Bio_X, Bio_y, Astro_X, Astro_y)\n",
    "print(\"~~~~~~~~~~~~~~~~~~~~~~~~~~~~~~~~~~~~~~~~~~~~~~~~~~~~~~~\")\n",
    "print(\"~~~~~~~~~~~~~~~~~~~~~~~~~~~~~~~~~~~~~~~~~~~~~~~~~~~~~~~\")\n",
    "run_transfer_model(clf, Bio_X_res, Bio_y_res, Astro_X, Astro_y)"
   ]
  },
  {
   "cell_type": "markdown",
   "metadata": {},
   "source": [
    "***\n",
    "### Bio -> Chem\n",
    "***"
   ]
  },
  {
   "cell_type": "code",
   "execution_count": 71,
   "metadata": {},
   "outputs": [
    {
     "name": "stdout",
     "output_type": "stream",
     "text": [
      "(array([0.9429508 , 0.05810109]), array([0.8385327 , 0.16410941]), array([0.88768163, 0.08581894]), array([49397,  2998]))\n",
      "[[41421  7976]\n",
      " [ 2506   492]]\n",
      "~~~~~~~~~~~~~~~~~~~~~~~~~~~~~~~~~~~~~~~~~~~~~~~~~~~~~~~\n",
      "~~~~~~~~~~~~~~~~~~~~~~~~~~~~~~~~~~~~~~~~~~~~~~~~~~~~~~~\n",
      "(array([0.94474254, 0.06804329]), array([0.84833087, 0.18245497]), array([0.89394473, 0.09912114]), array([49397,  2998]))\n",
      "[[41905  7492]\n",
      " [ 2451   547]]\n"
     ]
    }
   ],
   "source": [
    "clf = DecisionTreeClassifier(random_state=37)\n",
    "\n",
    "run_transfer_model(clf, Bio_X, Bio_y, Chem_X, Chem_y)\n",
    "print(\"~~~~~~~~~~~~~~~~~~~~~~~~~~~~~~~~~~~~~~~~~~~~~~~~~~~~~~~\")\n",
    "print(\"~~~~~~~~~~~~~~~~~~~~~~~~~~~~~~~~~~~~~~~~~~~~~~~~~~~~~~~\")\n",
    "run_transfer_model(clf, Bio_X_res, Bio_y_res, Chem_X, Chem_y)"
   ]
  },
  {
   "cell_type": "code",
   "execution_count": 72,
   "metadata": {},
   "outputs": [
    {
     "name": "stderr",
     "output_type": "stream",
     "text": [
      "/home/tntech.edu/ambecklehi42/.conda/envs/tf-2.0/lib/python3.7/site-packages/sklearn/metrics/classification.py:1437: UndefinedMetricWarning: Precision and F-score are ill-defined and being set to 0.0 in labels with no predicted samples.\n",
      "  'precision', 'predicted', average, warn_for)\n"
     ]
    },
    {
     "name": "stdout",
     "output_type": "stream",
     "text": [
      "(array([0.9427808, 0.       ]), array([1., 0.]), array([0.97054778, 0.        ]), array([49397,  2998]))\n",
      "[[49397     0]\n",
      " [ 2998     0]]\n",
      "~~~~~~~~~~~~~~~~~~~~~~~~~~~~~~~~~~~~~~~~~~~~~~~~~~~~~~~\n",
      "~~~~~~~~~~~~~~~~~~~~~~~~~~~~~~~~~~~~~~~~~~~~~~~~~~~~~~~\n",
      "(array([0.94321608, 0.05943122]), array([0.8359617 , 0.17078052]), array([0.88635607, 0.08817704]), array([49397,  2998]))\n",
      "[[41294  8103]\n",
      " [ 2486   512]]\n"
     ]
    }
   ],
   "source": [
    "clf = KNeighborsClassifier(n_neighbors = 547)\n",
    "\n",
    "run_transfer_model(clf, Bio_X, Bio_y, Chem_X, Chem_y)\n",
    "print(\"~~~~~~~~~~~~~~~~~~~~~~~~~~~~~~~~~~~~~~~~~~~~~~~~~~~~~~~\")\n",
    "print(\"~~~~~~~~~~~~~~~~~~~~~~~~~~~~~~~~~~~~~~~~~~~~~~~~~~~~~~~\")\n",
    "run_transfer_model(clf, Bio_X_res, Bio_y_res, Chem_X, Chem_y)"
   ]
  },
  {
   "cell_type": "code",
   "execution_count": 73,
   "metadata": {},
   "outputs": [
    {
     "name": "stdout",
     "output_type": "stream",
     "text": [
      "(array([0.94261089, 0.04575163]), array([0.98522177, 0.01167445]), array([0.96344542, 0.01860218]), array([49397,  2998]))\n",
      "[[48667   730]\n",
      " [ 2963    35]]\n",
      "~~~~~~~~~~~~~~~~~~~~~~~~~~~~~~~~~~~~~~~~~~~~~~~~~~~~~~~\n",
      "~~~~~~~~~~~~~~~~~~~~~~~~~~~~~~~~~~~~~~~~~~~~~~~~~~~~~~~\n",
      "(array([0.94038426, 0.05470887]), array([0.51029415, 0.46697799]), array([0.66158369, 0.09794319]), array([49397,  2998]))\n",
      "[[25207 24190]\n",
      " [ 1598  1400]]\n"
     ]
    }
   ],
   "source": [
    "clf = MLPClassifier(solver='lbfgs', alpha=1e-5, random_state=1)\n",
    "\n",
    "run_transfer_model(clf, Bio_X, Bio_y, Chem_X, Chem_y)\n",
    "print(\"~~~~~~~~~~~~~~~~~~~~~~~~~~~~~~~~~~~~~~~~~~~~~~~~~~~~~~~\")\n",
    "print(\"~~~~~~~~~~~~~~~~~~~~~~~~~~~~~~~~~~~~~~~~~~~~~~~~~~~~~~~\")\n",
    "run_transfer_model(clf, Bio_X_res, Bio_y_res, Chem_X, Chem_y)"
   ]
  },
  {
   "cell_type": "code",
   "execution_count": 74,
   "metadata": {},
   "outputs": [
    {
     "name": "stdout",
     "output_type": "stream",
     "text": [
      "(array([0.9427808, 0.       ]), array([1., 0.]), array([0.97054778, 0.        ]), array([49397,  2998]))\n",
      "[[49397     0]\n",
      " [ 2998     0]]\n",
      "~~~~~~~~~~~~~~~~~~~~~~~~~~~~~~~~~~~~~~~~~~~~~~~~~~~~~~~\n",
      "~~~~~~~~~~~~~~~~~~~~~~~~~~~~~~~~~~~~~~~~~~~~~~~~~~~~~~~\n",
      "(array([0.94835025, 0.0582051 ]), array([0.15128449, 0.86424283]), array([0.26094244, 0.10906489]), array([49397,  2998]))\n",
      "[[ 7473 41924]\n",
      " [  407  2591]]\n"
     ]
    },
    {
     "name": "stderr",
     "output_type": "stream",
     "text": [
      "/home/tntech.edu/ambecklehi42/.conda/envs/tf-2.0/lib/python3.7/site-packages/sklearn/metrics/classification.py:1437: UndefinedMetricWarning: Precision and F-score are ill-defined and being set to 0.0 in labels with no predicted samples.\n",
      "  'precision', 'predicted', average, warn_for)\n"
     ]
    }
   ],
   "source": [
    "clf = BernoulliNB()\n",
    "\n",
    "run_transfer_model(clf, Bio_X, Bio_y, Chem_X, Chem_y)\n",
    "print(\"~~~~~~~~~~~~~~~~~~~~~~~~~~~~~~~~~~~~~~~~~~~~~~~~~~~~~~~\")\n",
    "print(\"~~~~~~~~~~~~~~~~~~~~~~~~~~~~~~~~~~~~~~~~~~~~~~~~~~~~~~~\")\n",
    "run_transfer_model(clf, Bio_X_res, Bio_y_res, Chem_X, Chem_y)"
   ]
  },
  {
   "cell_type": "code",
   "execution_count": 75,
   "metadata": {},
   "outputs": [
    {
     "name": "stderr",
     "output_type": "stream",
     "text": [
      "/home/tntech.edu/ambecklehi42/.conda/envs/tf-2.0/lib/python3.7/site-packages/sklearn/metrics/classification.py:1437: UndefinedMetricWarning: Precision and F-score are ill-defined and being set to 0.0 in labels with no predicted samples.\n",
      "  'precision', 'predicted', average, warn_for)\n"
     ]
    },
    {
     "name": "stdout",
     "output_type": "stream",
     "text": [
      "(array([0.9427808, 0.       ]), array([1., 0.]), array([0.97054778, 0.        ]), array([49397,  2998]))\n",
      "[[49397     0]\n",
      " [ 2998     0]]\n",
      "~~~~~~~~~~~~~~~~~~~~~~~~~~~~~~~~~~~~~~~~~~~~~~~~~~~~~~~\n",
      "~~~~~~~~~~~~~~~~~~~~~~~~~~~~~~~~~~~~~~~~~~~~~~~~~~~~~~~\n",
      "(array([0.94439391, 0.06356531]), array([0.79869223, 0.2251501 ]), array([0.86545359, 0.09914078]), array([49397,  2998]))\n",
      "[[39453  9944]\n",
      " [ 2323   675]]\n"
     ]
    }
   ],
   "source": [
    "clf = RandomForestClassifier(n_estimators=100, max_depth=2, random_state=0)\n",
    "\n",
    "run_transfer_model(clf, Bio_X, Bio_y, Chem_X, Chem_y)\n",
    "print(\"~~~~~~~~~~~~~~~~~~~~~~~~~~~~~~~~~~~~~~~~~~~~~~~~~~~~~~~\")\n",
    "print(\"~~~~~~~~~~~~~~~~~~~~~~~~~~~~~~~~~~~~~~~~~~~~~~~~~~~~~~~\")\n",
    "run_transfer_model(clf, Bio_X_res, Bio_y_res, Chem_X, Chem_y)"
   ]
  },
  {
   "cell_type": "markdown",
   "metadata": {},
   "source": [
    "***\n",
    "### Bio -> Others\n",
    "***"
   ]
  },
  {
   "cell_type": "code",
   "execution_count": 76,
   "metadata": {},
   "outputs": [
    {
     "name": "stdout",
     "output_type": "stream",
     "text": [
      "(array([0.95508529, 0.03320053]), array([0.85866822, 0.10729614]), array([0.90431405, 0.05070994]), array([5151,  233]))\n",
      "[[4423  728]\n",
      " [ 208   25]]\n",
      "~~~~~~~~~~~~~~~~~~~~~~~~~~~~~~~~~~~~~~~~~~~~~~~~~~~~~~~\n",
      "~~~~~~~~~~~~~~~~~~~~~~~~~~~~~~~~~~~~~~~~~~~~~~~~~~~~~~~\n",
      "(array([0.957994  , 0.05153203]), array([0.86779266, 0.15879828]), array([0.91066517, 0.07781283]), array([5151,  233]))\n",
      "[[4470  681]\n",
      " [ 196   37]]\n"
     ]
    }
   ],
   "source": [
    "clf = DecisionTreeClassifier(random_state=37)\n",
    "\n",
    "run_transfer_model(clf, Bio_X, Bio_y, Others_X, Others_y)\n",
    "print(\"~~~~~~~~~~~~~~~~~~~~~~~~~~~~~~~~~~~~~~~~~~~~~~~~~~~~~~~\")\n",
    "print(\"~~~~~~~~~~~~~~~~~~~~~~~~~~~~~~~~~~~~~~~~~~~~~~~~~~~~~~~\")\n",
    "run_transfer_model(clf, Bio_X_res, Bio_y_res, Others_X, Others_y)"
   ]
  },
  {
   "cell_type": "code",
   "execution_count": 77,
   "metadata": {},
   "outputs": [
    {
     "name": "stderr",
     "output_type": "stream",
     "text": [
      "/home/tntech.edu/ambecklehi42/.conda/envs/tf-2.0/lib/python3.7/site-packages/sklearn/metrics/classification.py:1437: UndefinedMetricWarning: Precision and F-score are ill-defined and being set to 0.0 in labels with no predicted samples.\n",
      "  'precision', 'predicted', average, warn_for)\n"
     ]
    },
    {
     "name": "stdout",
     "output_type": "stream",
     "text": [
      "(array([0.95672363, 0.        ]), array([1., 0.]), array([0.97788325, 0.        ]), array([5151,  233]))\n",
      "[[5151    0]\n",
      " [ 233    0]]\n",
      "~~~~~~~~~~~~~~~~~~~~~~~~~~~~~~~~~~~~~~~~~~~~~~~~~~~~~~~\n",
      "~~~~~~~~~~~~~~~~~~~~~~~~~~~~~~~~~~~~~~~~~~~~~~~~~~~~~~~\n",
      "(array([0.95826162, 0.05298913]), array([0.86468647, 0.16738197]), array([0.90907235, 0.08049536]), array([5151,  233]))\n",
      "[[4454  697]\n",
      " [ 194   39]]\n"
     ]
    }
   ],
   "source": [
    "clf = KNeighborsClassifier(n_neighbors = 547)\n",
    "\n",
    "run_transfer_model(clf, Bio_X, Bio_y, Others_X, Others_y)\n",
    "print(\"~~~~~~~~~~~~~~~~~~~~~~~~~~~~~~~~~~~~~~~~~~~~~~~~~~~~~~~\")\n",
    "print(\"~~~~~~~~~~~~~~~~~~~~~~~~~~~~~~~~~~~~~~~~~~~~~~~~~~~~~~~\")\n",
    "run_transfer_model(clf, Bio_X_res, Bio_y_res, Others_X, Others_y)"
   ]
  },
  {
   "cell_type": "code",
   "execution_count": 78,
   "metadata": {},
   "outputs": [
    {
     "name": "stdout",
     "output_type": "stream",
     "text": [
      "(array([0.95672363, 0.        ]), array([1., 0.]), array([0.97788325, 0.        ]), array([5151,  233]))\n",
      "[[5151    0]\n",
      " [ 233    0]]\n",
      "~~~~~~~~~~~~~~~~~~~~~~~~~~~~~~~~~~~~~~~~~~~~~~~~~~~~~~~\n",
      "~~~~~~~~~~~~~~~~~~~~~~~~~~~~~~~~~~~~~~~~~~~~~~~~~~~~~~~\n",
      "(array([0.97780374, 0.04726148]), array([0.16249272, 0.91845494]), array([0.27867488, 0.08989708]), array([5151,  233]))\n",
      "[[ 837 4314]\n",
      " [  19  214]]\n"
     ]
    },
    {
     "name": "stderr",
     "output_type": "stream",
     "text": [
      "/home/tntech.edu/ambecklehi42/.conda/envs/tf-2.0/lib/python3.7/site-packages/sklearn/metrics/classification.py:1437: UndefinedMetricWarning: Precision and F-score are ill-defined and being set to 0.0 in labels with no predicted samples.\n",
      "  'precision', 'predicted', average, warn_for)\n"
     ]
    }
   ],
   "source": [
    "clf = BernoulliNB()\n",
    "\n",
    "run_transfer_model(clf, Bio_X, Bio_y, Others_X, Others_y)\n",
    "print(\"~~~~~~~~~~~~~~~~~~~~~~~~~~~~~~~~~~~~~~~~~~~~~~~~~~~~~~~\")\n",
    "print(\"~~~~~~~~~~~~~~~~~~~~~~~~~~~~~~~~~~~~~~~~~~~~~~~~~~~~~~~\")\n",
    "run_transfer_model(clf, Bio_X_res, Bio_y_res, Others_X, Others_y)"
   ]
  },
  {
   "cell_type": "code",
   "execution_count": 79,
   "metadata": {},
   "outputs": [
    {
     "name": "stdout",
     "output_type": "stream",
     "text": [
      "(array([0.9568006 , 0.04819277]), array([0.98466317, 0.01716738]), array([0.97053196, 0.02531646]), array([5151,  233]))\n",
      "[[5072   79]\n",
      " [ 229    4]]\n",
      "~~~~~~~~~~~~~~~~~~~~~~~~~~~~~~~~~~~~~~~~~~~~~~~~~~~~~~~\n",
      "~~~~~~~~~~~~~~~~~~~~~~~~~~~~~~~~~~~~~~~~~~~~~~~~~~~~~~~\n",
      "(array([0.95987159, 0.05042527]), array([0.69656377, 0.35622318]), array([0.80728991, 0.08834486]), array([5151,  233]))\n",
      "[[3588 1563]\n",
      " [ 150   83]]\n"
     ]
    }
   ],
   "source": [
    "clf = MLPClassifier(solver='lbfgs', alpha=1e-5, random_state=1)\n",
    "\n",
    "run_transfer_model(clf, Bio_X, Bio_y, Others_X, Others_y)\n",
    "print(\"~~~~~~~~~~~~~~~~~~~~~~~~~~~~~~~~~~~~~~~~~~~~~~~~~~~~~~~\")\n",
    "print(\"~~~~~~~~~~~~~~~~~~~~~~~~~~~~~~~~~~~~~~~~~~~~~~~~~~~~~~~\")\n",
    "run_transfer_model(clf, Bio_X_res, Bio_y_res, Others_X, Others_y)"
   ]
  },
  {
   "cell_type": "code",
   "execution_count": 80,
   "metadata": {},
   "outputs": [
    {
     "name": "stderr",
     "output_type": "stream",
     "text": [
      "/home/tntech.edu/ambecklehi42/.conda/envs/tf-2.0/lib/python3.7/site-packages/sklearn/metrics/classification.py:1437: UndefinedMetricWarning: Precision and F-score are ill-defined and being set to 0.0 in labels with no predicted samples.\n",
      "  'precision', 'predicted', average, warn_for)\n"
     ]
    },
    {
     "name": "stdout",
     "output_type": "stream",
     "text": [
      "(array([0.95672363, 0.        ]), array([1., 0.]), array([0.97788325, 0.        ]), array([5151,  233]))\n",
      "[[5151    0]\n",
      " [ 233    0]]\n",
      "~~~~~~~~~~~~~~~~~~~~~~~~~~~~~~~~~~~~~~~~~~~~~~~~~~~~~~~\n",
      "~~~~~~~~~~~~~~~~~~~~~~~~~~~~~~~~~~~~~~~~~~~~~~~~~~~~~~~\n",
      "(array([0.96142633, 0.06594595]), array([0.83226558, 0.26180258]), array([0.89219563, 0.10535406]), array([5151,  233]))\n",
      "[[4287  864]\n",
      " [ 172   61]]\n"
     ]
    }
   ],
   "source": [
    "clf = RandomForestClassifier(n_estimators=100, max_depth=2, random_state=0)\n",
    "\n",
    "run_transfer_model(clf, Bio_X, Bio_y, Others_X, Others_y)\n",
    "print(\"~~~~~~~~~~~~~~~~~~~~~~~~~~~~~~~~~~~~~~~~~~~~~~~~~~~~~~~\")\n",
    "print(\"~~~~~~~~~~~~~~~~~~~~~~~~~~~~~~~~~~~~~~~~~~~~~~~~~~~~~~~\")\n",
    "run_transfer_model(clf, Bio_X_res, Bio_y_res, Others_X, Others_y)"
   ]
  },
  {
   "cell_type": "markdown",
   "metadata": {},
   "source": [
    "***\n",
    "### Astro -> Bio\n",
    "***"
   ]
  },
  {
   "cell_type": "code",
   "execution_count": 81,
   "metadata": {},
   "outputs": [
    {
     "name": "stdout",
     "output_type": "stream",
     "text": [
      "(array([0.90793615, 0.0745277 ]), array([0.87138855, 0.10491824]), array([0.88928701, 0.08714954]), array([159216,  15717]))\n",
      "[[138739  20477]\n",
      " [ 14068   1649]]\n",
      "~~~~~~~~~~~~~~~~~~~~~~~~~~~~~~~~~~~~~~~~~~~~~~~~~~~~~~~\n",
      "~~~~~~~~~~~~~~~~~~~~~~~~~~~~~~~~~~~~~~~~~~~~~~~~~~~~~~~\n",
      "(array([0.90930129, 0.08403662]), array([0.87116245, 0.11974295]), array([0.88982339, 0.09876154]), array([159216,  15717]))\n",
      "[[138703  20513]\n",
      " [ 13835   1882]]\n"
     ]
    }
   ],
   "source": [
    "clf = DecisionTreeClassifier(random_state=37)\n",
    "\n",
    "run_transfer_model(clf, Astro_X, Astro_y, Bio_X, Bio_y)\n",
    "print(\"~~~~~~~~~~~~~~~~~~~~~~~~~~~~~~~~~~~~~~~~~~~~~~~~~~~~~~~\")\n",
    "print(\"~~~~~~~~~~~~~~~~~~~~~~~~~~~~~~~~~~~~~~~~~~~~~~~~~~~~~~~\")\n",
    "run_transfer_model(clf, Astro_X_res, Astro_y_res, Bio_X, Bio_y)"
   ]
  },
  {
   "cell_type": "code",
   "execution_count": 82,
   "metadata": {},
   "outputs": [
    {
     "name": "stderr",
     "output_type": "stream",
     "text": [
      "/home/tntech.edu/ambecklehi42/.conda/envs/tf-2.0/lib/python3.7/site-packages/sklearn/metrics/classification.py:1437: UndefinedMetricWarning: Precision and F-score are ill-defined and being set to 0.0 in labels with no predicted samples.\n",
      "  'precision', 'predicted', average, warn_for)\n"
     ]
    },
    {
     "name": "stdout",
     "output_type": "stream",
     "text": [
      "(array([0.91015417, 0.        ]), array([1., 0.]), array([0.9529641, 0.       ]), array([159216,  15717]))\n",
      "[[159216      0]\n",
      " [ 15717      0]]\n",
      "~~~~~~~~~~~~~~~~~~~~~~~~~~~~~~~~~~~~~~~~~~~~~~~~~~~~~~~\n",
      "~~~~~~~~~~~~~~~~~~~~~~~~~~~~~~~~~~~~~~~~~~~~~~~~~~~~~~~\n",
      "(array([0.90034285, 0.07800416]), array([0.54098834, 0.39339569]), array([0.67586824, 0.13019309]), array([159216,  15717]))\n",
      "[[86134 73082]\n",
      " [ 9534  6183]]\n"
     ]
    }
   ],
   "source": [
    "clf = KNeighborsClassifier(n_neighbors = 547)\n",
    "\n",
    "run_transfer_model(clf, Astro_X, Astro_y, Bio_X, Bio_y)\n",
    "print(\"~~~~~~~~~~~~~~~~~~~~~~~~~~~~~~~~~~~~~~~~~~~~~~~~~~~~~~~\")\n",
    "print(\"~~~~~~~~~~~~~~~~~~~~~~~~~~~~~~~~~~~~~~~~~~~~~~~~~~~~~~~\")\n",
    "run_transfer_model(clf, Astro_X_res, Astro_y_res, Bio_X, Bio_y)"
   ]
  },
  {
   "cell_type": "code",
   "execution_count": 83,
   "metadata": {},
   "outputs": [
    {
     "name": "stderr",
     "output_type": "stream",
     "text": [
      "/home/tntech.edu/ambecklehi42/.conda/envs/tf-2.0/lib/python3.7/site-packages/sklearn/metrics/classification.py:1437: UndefinedMetricWarning: Precision and F-score are ill-defined and being set to 0.0 in labels with no predicted samples.\n",
      "  'precision', 'predicted', average, warn_for)\n"
     ]
    },
    {
     "name": "stdout",
     "output_type": "stream",
     "text": [
      "(array([0.91015417, 0.        ]), array([1., 0.]), array([0.9529641, 0.       ]), array([159216,  15717]))\n",
      "[[159216      0]\n",
      " [ 15717      0]]\n",
      "~~~~~~~~~~~~~~~~~~~~~~~~~~~~~~~~~~~~~~~~~~~~~~~~~~~~~~~\n",
      "~~~~~~~~~~~~~~~~~~~~~~~~~~~~~~~~~~~~~~~~~~~~~~~~~~~~~~~\n",
      "(array([0.92538125, 0.09292735]), array([0.17112602, 0.86021505]), array([0.28883859, 0.16773465]), array([159216,  15717]))\n",
      "[[ 27246 131970]\n",
      " [  2197  13520]]\n"
     ]
    }
   ],
   "source": [
    "clf = BernoulliNB()\n",
    "\n",
    "run_transfer_model(clf, Astro_X, Astro_y, Bio_X, Bio_y)\n",
    "print(\"~~~~~~~~~~~~~~~~~~~~~~~~~~~~~~~~~~~~~~~~~~~~~~~~~~~~~~~\")\n",
    "print(\"~~~~~~~~~~~~~~~~~~~~~~~~~~~~~~~~~~~~~~~~~~~~~~~~~~~~~~~\")\n",
    "run_transfer_model(clf, Astro_X_res, Astro_y_res, Bio_X, Bio_y)"
   ]
  },
  {
   "cell_type": "code",
   "execution_count": 84,
   "metadata": {},
   "outputs": [
    {
     "name": "stdout",
     "output_type": "stream",
     "text": [
      "(array([0.90994659, 0.07553957]), array([0.98547257, 0.0120252 ]), array([0.94620485, 0.02074757]), array([159216,  15717]))\n",
      "[[156903   2313]\n",
      " [ 15528    189]]\n",
      "~~~~~~~~~~~~~~~~~~~~~~~~~~~~~~~~~~~~~~~~~~~~~~~~~~~~~~~\n",
      "~~~~~~~~~~~~~~~~~~~~~~~~~~~~~~~~~~~~~~~~~~~~~~~~~~~~~~~\n",
      "(array([0.9075087 , 0.08732357]), array([0.48665963, 0.49755042]), array([0.6335646 , 0.14857175]), array([159216,  15717]))\n",
      "[[77484 81732]\n",
      " [ 7897  7820]]\n"
     ]
    }
   ],
   "source": [
    "clf = MLPClassifier(solver='lbfgs', alpha=1e-5, random_state=1)\n",
    "\n",
    "run_transfer_model(clf, Astro_X, Astro_y, Bio_X, Bio_y)\n",
    "print(\"~~~~~~~~~~~~~~~~~~~~~~~~~~~~~~~~~~~~~~~~~~~~~~~~~~~~~~~\")\n",
    "print(\"~~~~~~~~~~~~~~~~~~~~~~~~~~~~~~~~~~~~~~~~~~~~~~~~~~~~~~~\")\n",
    "run_transfer_model(clf, Astro_X_res, Astro_y_res, Bio_X, Bio_y)"
   ]
  },
  {
   "cell_type": "code",
   "execution_count": 85,
   "metadata": {},
   "outputs": [
    {
     "name": "stderr",
     "output_type": "stream",
     "text": [
      "/home/tntech.edu/ambecklehi42/.conda/envs/tf-2.0/lib/python3.7/site-packages/sklearn/metrics/classification.py:1437: UndefinedMetricWarning: Precision and F-score are ill-defined and being set to 0.0 in labels with no predicted samples.\n",
      "  'precision', 'predicted', average, warn_for)\n"
     ]
    },
    {
     "name": "stdout",
     "output_type": "stream",
     "text": [
      "(array([0.91015417, 0.        ]), array([1., 0.]), array([0.9529641, 0.       ]), array([159216,  15717]))\n",
      "[[159216      0]\n",
      " [ 15717      0]]\n",
      "~~~~~~~~~~~~~~~~~~~~~~~~~~~~~~~~~~~~~~~~~~~~~~~~~~~~~~~\n",
      "~~~~~~~~~~~~~~~~~~~~~~~~~~~~~~~~~~~~~~~~~~~~~~~~~~~~~~~\n",
      "(array([0.9009468, 0.0843795]), array([0.36875691, 0.58929821]), array([0.5233195 , 0.14762159]), array([159216,  15717]))\n",
      "[[ 58712 100504]\n",
      " [  6455   9262]]\n"
     ]
    }
   ],
   "source": [
    "clf = RandomForestClassifier(n_estimators=100, max_depth=2, random_state=0)\n",
    "\n",
    "run_transfer_model(clf, Astro_X, Astro_y, Bio_X, Bio_y)\n",
    "print(\"~~~~~~~~~~~~~~~~~~~~~~~~~~~~~~~~~~~~~~~~~~~~~~~~~~~~~~~\")\n",
    "print(\"~~~~~~~~~~~~~~~~~~~~~~~~~~~~~~~~~~~~~~~~~~~~~~~~~~~~~~~\")\n",
    "run_transfer_model(clf, Astro_X_res, Astro_y_res, Bio_X, Bio_y)"
   ]
  },
  {
   "cell_type": "markdown",
   "metadata": {},
   "source": [
    "***\n",
    "### Astro -> Chem\n",
    "***"
   ]
  },
  {
   "cell_type": "code",
   "execution_count": 86,
   "metadata": {},
   "outputs": [
    {
     "name": "stdout",
     "output_type": "stream",
     "text": [
      "(array([0.94248297, 0.05605905]), array([0.79547341, 0.20013342]), array([0.8627606 , 0.08758485]), array([49397,  2998]))\n",
      "[[39294 10103]\n",
      " [ 2398   600]]\n",
      "~~~~~~~~~~~~~~~~~~~~~~~~~~~~~~~~~~~~~~~~~~~~~~~~~~~~~~~\n",
      "~~~~~~~~~~~~~~~~~~~~~~~~~~~~~~~~~~~~~~~~~~~~~~~~~~~~~~~\n",
      "(array([0.94325998, 0.0596479 ]), array([0.83563779, 0.17178119]), array([0.88619335, 0.08854883]), array([49397,  2998]))\n",
      "[[41278  8119]\n",
      " [ 2483   515]]\n"
     ]
    }
   ],
   "source": [
    "clf = DecisionTreeClassifier(random_state=37)\n",
    "\n",
    "run_transfer_model(clf, Astro_X, Astro_y, Chem_X, Chem_y)\n",
    "print(\"~~~~~~~~~~~~~~~~~~~~~~~~~~~~~~~~~~~~~~~~~~~~~~~~~~~~~~~\")\n",
    "print(\"~~~~~~~~~~~~~~~~~~~~~~~~~~~~~~~~~~~~~~~~~~~~~~~~~~~~~~~\")\n",
    "run_transfer_model(clf, Astro_X_res, Astro_y_res, Chem_X, Chem_y)"
   ]
  },
  {
   "cell_type": "code",
   "execution_count": 87,
   "metadata": {},
   "outputs": [
    {
     "name": "stderr",
     "output_type": "stream",
     "text": [
      "/home/tntech.edu/ambecklehi42/.conda/envs/tf-2.0/lib/python3.7/site-packages/sklearn/metrics/classification.py:1437: UndefinedMetricWarning: Precision and F-score are ill-defined and being set to 0.0 in labels with no predicted samples.\n",
      "  'precision', 'predicted', average, warn_for)\n"
     ]
    },
    {
     "name": "stdout",
     "output_type": "stream",
     "text": [
      "(array([0.9427808, 0.       ]), array([1., 0.]), array([0.97054778, 0.        ]), array([49397,  2998]))\n",
      "[[49397     0]\n",
      " [ 2998     0]]\n",
      "~~~~~~~~~~~~~~~~~~~~~~~~~~~~~~~~~~~~~~~~~~~~~~~~~~~~~~~\n",
      "~~~~~~~~~~~~~~~~~~~~~~~~~~~~~~~~~~~~~~~~~~~~~~~~~~~~~~~\n",
      "(array([0.94736306, 0.06309918]), array([0.5647509 , 0.48298866]), array([0.70765055, 0.11161643]), array([49397,  2998]))\n",
      "[[27897 21500]\n",
      " [ 1550  1448]]\n"
     ]
    }
   ],
   "source": [
    "clf = KNeighborsClassifier(n_neighbors = 547)\n",
    "\n",
    "run_transfer_model(clf, Astro_X, Astro_y, Chem_X, Chem_y)\n",
    "print(\"~~~~~~~~~~~~~~~~~~~~~~~~~~~~~~~~~~~~~~~~~~~~~~~~~~~~~~~\")\n",
    "print(\"~~~~~~~~~~~~~~~~~~~~~~~~~~~~~~~~~~~~~~~~~~~~~~~~~~~~~~~\")\n",
    "run_transfer_model(clf, Astro_X_res, Astro_y_res, Chem_X, Chem_y)"
   ]
  },
  {
   "cell_type": "code",
   "execution_count": 88,
   "metadata": {},
   "outputs": [
    {
     "name": "stdout",
     "output_type": "stream",
     "text": [
      "(array([0.9427808, 0.       ]), array([1., 0.]), array([0.97054778, 0.        ]), array([49397,  2998]))\n",
      "[[49397     0]\n",
      " [ 2998     0]]\n",
      "~~~~~~~~~~~~~~~~~~~~~~~~~~~~~~~~~~~~~~~~~~~~~~~~~~~~~~~\n",
      "~~~~~~~~~~~~~~~~~~~~~~~~~~~~~~~~~~~~~~~~~~~~~~~~~~~~~~~\n",
      "(array([0.94835025, 0.0582051 ]), array([0.15128449, 0.86424283]), array([0.26094244, 0.10906489]), array([49397,  2998]))\n",
      "[[ 7473 41924]\n",
      " [  407  2591]]\n"
     ]
    },
    {
     "name": "stderr",
     "output_type": "stream",
     "text": [
      "/home/tntech.edu/ambecklehi42/.conda/envs/tf-2.0/lib/python3.7/site-packages/sklearn/metrics/classification.py:1437: UndefinedMetricWarning: Precision and F-score are ill-defined and being set to 0.0 in labels with no predicted samples.\n",
      "  'precision', 'predicted', average, warn_for)\n"
     ]
    }
   ],
   "source": [
    "clf = BernoulliNB()\n",
    "\n",
    "run_transfer_model(clf, Astro_X, Astro_y, Chem_X, Chem_y)\n",
    "print(\"~~~~~~~~~~~~~~~~~~~~~~~~~~~~~~~~~~~~~~~~~~~~~~~~~~~~~~~\")\n",
    "print(\"~~~~~~~~~~~~~~~~~~~~~~~~~~~~~~~~~~~~~~~~~~~~~~~~~~~~~~~\")\n",
    "run_transfer_model(clf, Astro_X_res, Astro_y_res, Chem_X, Chem_y)"
   ]
  },
  {
   "cell_type": "code",
   "execution_count": 89,
   "metadata": {},
   "outputs": [
    {
     "name": "stdout",
     "output_type": "stream",
     "text": [
      "(array([0.94118014, 0.03946457]), array([0.91574387, 0.05703803]), array([0.92828779, 0.04665121]), array([49397,  2998]))\n",
      "[[45235  4162]\n",
      " [ 2827   171]]\n",
      "~~~~~~~~~~~~~~~~~~~~~~~~~~~~~~~~~~~~~~~~~~~~~~~~~~~~~~~\n",
      "~~~~~~~~~~~~~~~~~~~~~~~~~~~~~~~~~~~~~~~~~~~~~~~~~~~~~~~\n",
      "(array([0.94471847, 0.05804154]), array([0.29856064, 0.71214143]), array([0.45372877, 0.10733498]), array([49397,  2998]))\n",
      "[[14748 34649]\n",
      " [  863  2135]]\n"
     ]
    }
   ],
   "source": [
    "clf = MLPClassifier(solver='lbfgs', alpha=1e-5, random_state=1)\n",
    "\n",
    "run_transfer_model(clf, Astro_X, Astro_y, Chem_X, Chem_y)\n",
    "print(\"~~~~~~~~~~~~~~~~~~~~~~~~~~~~~~~~~~~~~~~~~~~~~~~~~~~~~~~\")\n",
    "print(\"~~~~~~~~~~~~~~~~~~~~~~~~~~~~~~~~~~~~~~~~~~~~~~~~~~~~~~~\")\n",
    "run_transfer_model(clf, Astro_X_res, Astro_y_res, Chem_X, Chem_y)"
   ]
  },
  {
   "cell_type": "code",
   "execution_count": 90,
   "metadata": {},
   "outputs": [
    {
     "name": "stderr",
     "output_type": "stream",
     "text": [
      "/home/tntech.edu/ambecklehi42/.conda/envs/tf-2.0/lib/python3.7/site-packages/sklearn/metrics/classification.py:1437: UndefinedMetricWarning: Precision and F-score are ill-defined and being set to 0.0 in labels with no predicted samples.\n",
      "  'precision', 'predicted', average, warn_for)\n"
     ]
    },
    {
     "name": "stdout",
     "output_type": "stream",
     "text": [
      "(array([0.9427808, 0.       ]), array([1., 0.]), array([0.97054778, 0.        ]), array([49397,  2998]))\n",
      "[[49397     0]\n",
      " [ 2998     0]]\n",
      "~~~~~~~~~~~~~~~~~~~~~~~~~~~~~~~~~~~~~~~~~~~~~~~~~~~~~~~\n",
      "~~~~~~~~~~~~~~~~~~~~~~~~~~~~~~~~~~~~~~~~~~~~~~~~~~~~~~~\n",
      "(array([0.95305203, 0.0602678 ]), array([0.23137033, 0.81220814]), array([0.37234684, 0.1122094 ]), array([49397,  2998]))\n",
      "[[11429 37968]\n",
      " [  563  2435]]\n"
     ]
    }
   ],
   "source": [
    "clf = RandomForestClassifier(n_estimators=100, max_depth=2, random_state=0)\n",
    "\n",
    "run_transfer_model(clf, Astro_X, Astro_y, Chem_X, Chem_y)\n",
    "print(\"~~~~~~~~~~~~~~~~~~~~~~~~~~~~~~~~~~~~~~~~~~~~~~~~~~~~~~~\")\n",
    "print(\"~~~~~~~~~~~~~~~~~~~~~~~~~~~~~~~~~~~~~~~~~~~~~~~~~~~~~~~\")\n",
    "run_transfer_model(clf, Astro_X_res, Astro_y_res, Chem_X, Chem_y)"
   ]
  },
  {
   "cell_type": "markdown",
   "metadata": {},
   "source": [
    "***\n",
    "### Astro -> Others\n",
    "***"
   ]
  },
  {
   "cell_type": "code",
   "execution_count": 91,
   "metadata": {},
   "outputs": [
    {
     "name": "stdout",
     "output_type": "stream",
     "text": [
      "(array([0.95488722, 0.03634752]), array([0.78897301, 0.17596567]), array([0.86403742, 0.06024982]), array([5151,  233]))\n",
      "[[4064 1087]\n",
      " [ 192   41]]\n",
      "~~~~~~~~~~~~~~~~~~~~~~~~~~~~~~~~~~~~~~~~~~~~~~~~~~~~~~~\n",
      "~~~~~~~~~~~~~~~~~~~~~~~~~~~~~~~~~~~~~~~~~~~~~~~~~~~~~~~\n",
      "(array([0.95722041, 0.04621309]), array([0.85575616, 0.15450644]), array([0.90364904, 0.07114625]), array([5151,  233]))\n",
      "[[4408  743]\n",
      " [ 197   36]]\n"
     ]
    }
   ],
   "source": [
    "clf = DecisionTreeClassifier(random_state=37)\n",
    "\n",
    "run_transfer_model(clf, Astro_X, Astro_y, Others_X, Others_y)\n",
    "print(\"~~~~~~~~~~~~~~~~~~~~~~~~~~~~~~~~~~~~~~~~~~~~~~~~~~~~~~~\")\n",
    "print(\"~~~~~~~~~~~~~~~~~~~~~~~~~~~~~~~~~~~~~~~~~~~~~~~~~~~~~~~\")\n",
    "run_transfer_model(clf, Astro_X_res, Astro_y_res, Others_X, Others_y)"
   ]
  },
  {
   "cell_type": "code",
   "execution_count": 92,
   "metadata": {},
   "outputs": [
    {
     "name": "stderr",
     "output_type": "stream",
     "text": [
      "/home/tntech.edu/ambecklehi42/.conda/envs/tf-2.0/lib/python3.7/site-packages/sklearn/metrics/classification.py:1437: UndefinedMetricWarning: Precision and F-score are ill-defined and being set to 0.0 in labels with no predicted samples.\n",
      "  'precision', 'predicted', average, warn_for)\n"
     ]
    },
    {
     "name": "stdout",
     "output_type": "stream",
     "text": [
      "(array([0.95672363, 0.        ]), array([1., 0.]), array([0.97788325, 0.        ]), array([5151,  233]))\n",
      "[[5151    0]\n",
      " [ 233    0]]\n",
      "~~~~~~~~~~~~~~~~~~~~~~~~~~~~~~~~~~~~~~~~~~~~~~~~~~~~~~~\n",
      "~~~~~~~~~~~~~~~~~~~~~~~~~~~~~~~~~~~~~~~~~~~~~~~~~~~~~~~\n",
      "(array([0.95052807, 0.04016736]), array([0.33197437, 0.61802575]), array([0.49208633, 0.07543216]), array([5151,  233]))\n",
      "[[1710 3441]\n",
      " [  89  144]]\n"
     ]
    }
   ],
   "source": [
    "clf = KNeighborsClassifier(n_neighbors = 547)\n",
    "\n",
    "run_transfer_model(clf, Astro_X, Astro_y, Others_X, Others_y)\n",
    "print(\"~~~~~~~~~~~~~~~~~~~~~~~~~~~~~~~~~~~~~~~~~~~~~~~~~~~~~~~\")\n",
    "print(\"~~~~~~~~~~~~~~~~~~~~~~~~~~~~~~~~~~~~~~~~~~~~~~~~~~~~~~~\")\n",
    "run_transfer_model(clf, Astro_X_res, Astro_y_res, Others_X, Others_y)"
   ]
  },
  {
   "cell_type": "code",
   "execution_count": 93,
   "metadata": {},
   "outputs": [
    {
     "name": "stdout",
     "output_type": "stream",
     "text": [
      "(array([0.95672363, 0.        ]), array([1., 0.]), array([0.97788325, 0.        ]), array([5151,  233]))\n",
      "[[5151    0]\n",
      " [ 233    0]]\n",
      "~~~~~~~~~~~~~~~~~~~~~~~~~~~~~~~~~~~~~~~~~~~~~~~~~~~~~~~\n",
      "~~~~~~~~~~~~~~~~~~~~~~~~~~~~~~~~~~~~~~~~~~~~~~~~~~~~~~~\n",
      "(array([0.97780374, 0.04726148]), array([0.16249272, 0.91845494]), array([0.27867488, 0.08989708]), array([5151,  233]))\n",
      "[[ 837 4314]\n",
      " [  19  214]]\n"
     ]
    },
    {
     "name": "stderr",
     "output_type": "stream",
     "text": [
      "/home/tntech.edu/ambecklehi42/.conda/envs/tf-2.0/lib/python3.7/site-packages/sklearn/metrics/classification.py:1437: UndefinedMetricWarning: Precision and F-score are ill-defined and being set to 0.0 in labels with no predicted samples.\n",
      "  'precision', 'predicted', average, warn_for)\n"
     ]
    }
   ],
   "source": [
    "clf = BernoulliNB()\n",
    "\n",
    "run_transfer_model(clf, Astro_X, Astro_y, Others_X, Others_y)\n",
    "print(\"~~~~~~~~~~~~~~~~~~~~~~~~~~~~~~~~~~~~~~~~~~~~~~~~~~~~~~~\")\n",
    "print(\"~~~~~~~~~~~~~~~~~~~~~~~~~~~~~~~~~~~~~~~~~~~~~~~~~~~~~~~\")\n",
    "run_transfer_model(clf, Astro_X_res, Astro_y_res, Others_X, Others_y)"
   ]
  },
  {
   "cell_type": "code",
   "execution_count": 94,
   "metadata": {},
   "outputs": [
    {
     "name": "stdout",
     "output_type": "stream",
     "text": [
      "(array([0.95702385, 0.05882353]), array([0.98136284, 0.02575107]), array([0.96904054, 0.0358209 ]), array([5151,  233]))\n",
      "[[5055   96]\n",
      " [ 227    6]]\n",
      "~~~~~~~~~~~~~~~~~~~~~~~~~~~~~~~~~~~~~~~~~~~~~~~~~~~~~~~\n",
      "~~~~~~~~~~~~~~~~~~~~~~~~~~~~~~~~~~~~~~~~~~~~~~~~~~~~~~~\n",
      "(array([0.95969155, 0.04662189]), array([0.53154727, 0.50643777]), array([0.68415792, 0.0853835 ]), array([5151,  233]))\n",
      "[[2738 2413]\n",
      " [ 115  118]]\n"
     ]
    }
   ],
   "source": [
    "clf = MLPClassifier(solver='lbfgs', alpha=1e-5, random_state=1)\n",
    "\n",
    "run_transfer_model(clf, Astro_X, Astro_y, Others_X, Others_y)\n",
    "print(\"~~~~~~~~~~~~~~~~~~~~~~~~~~~~~~~~~~~~~~~~~~~~~~~~~~~~~~~\")\n",
    "print(\"~~~~~~~~~~~~~~~~~~~~~~~~~~~~~~~~~~~~~~~~~~~~~~~~~~~~~~~\")\n",
    "run_transfer_model(clf, Astro_X_res, Astro_y_res, Others_X, Others_y)"
   ]
  },
  {
   "cell_type": "code",
   "execution_count": 95,
   "metadata": {},
   "outputs": [
    {
     "name": "stderr",
     "output_type": "stream",
     "text": [
      "/home/tntech.edu/ambecklehi42/.conda/envs/tf-2.0/lib/python3.7/site-packages/sklearn/metrics/classification.py:1437: UndefinedMetricWarning: Precision and F-score are ill-defined and being set to 0.0 in labels with no predicted samples.\n",
      "  'precision', 'predicted', average, warn_for)\n"
     ]
    },
    {
     "name": "stdout",
     "output_type": "stream",
     "text": [
      "(array([0.95672363, 0.        ]), array([1., 0.]), array([0.97788325, 0.        ]), array([5151,  233]))\n",
      "[[5151    0]\n",
      " [ 233    0]]\n",
      "~~~~~~~~~~~~~~~~~~~~~~~~~~~~~~~~~~~~~~~~~~~~~~~~~~~~~~~\n",
      "~~~~~~~~~~~~~~~~~~~~~~~~~~~~~~~~~~~~~~~~~~~~~~~~~~~~~~~\n",
      "(array([0.98011138, 0.05039981]), array([0.23917686, 0.89270386]), array([0.38451935, 0.09541284]), array([5151,  233]))\n",
      "[[1232 3919]\n",
      " [  25  208]]\n"
     ]
    }
   ],
   "source": [
    "clf = RandomForestClassifier(n_estimators=100, max_depth=2, random_state=0)\n",
    "\n",
    "run_transfer_model(clf, Astro_X, Astro_y, Others_X, Others_y)\n",
    "print(\"~~~~~~~~~~~~~~~~~~~~~~~~~~~~~~~~~~~~~~~~~~~~~~~~~~~~~~~\")\n",
    "print(\"~~~~~~~~~~~~~~~~~~~~~~~~~~~~~~~~~~~~~~~~~~~~~~~~~~~~~~~\")\n",
    "run_transfer_model(clf, Astro_X_res, Astro_y_res, Others_X, Others_y)"
   ]
  },
  {
   "cell_type": "markdown",
   "metadata": {},
   "source": [
    "***\n",
    "### Chem -> Bio\n",
    "***"
   ]
  },
  {
   "cell_type": "code",
   "execution_count": 96,
   "metadata": {},
   "outputs": [
    {
     "name": "stdout",
     "output_type": "stream",
     "text": [
      "(array([0.90885843, 0.07519696]), array([0.91742664, 0.06801552]), array([0.91312244, 0.07142619]), array([159216,  15717]))\n",
      "[[146069  13147]\n",
      " [ 14648   1069]]\n",
      "~~~~~~~~~~~~~~~~~~~~~~~~~~~~~~~~~~~~~~~~~~~~~~~~~~~~~~~\n",
      "~~~~~~~~~~~~~~~~~~~~~~~~~~~~~~~~~~~~~~~~~~~~~~~~~~~~~~~\n",
      "(array([0.90927017, 0.08147261]), array([0.90362778, 0.08659413]), array([0.90644019, 0.08395534]), array([159216,  15717]))\n",
      "[[143872  15344]\n",
      " [ 14356   1361]]\n"
     ]
    }
   ],
   "source": [
    "clf = DecisionTreeClassifier(random_state=37)\n",
    "\n",
    "run_transfer_model(clf, Chem_X, Chem_y, Bio_X, Bio_y)\n",
    "print(\"~~~~~~~~~~~~~~~~~~~~~~~~~~~~~~~~~~~~~~~~~~~~~~~~~~~~~~~\")\n",
    "print(\"~~~~~~~~~~~~~~~~~~~~~~~~~~~~~~~~~~~~~~~~~~~~~~~~~~~~~~~\")\n",
    "run_transfer_model(clf, Chem_X_res, Chem_y_res, Bio_X, Bio_y)"
   ]
  },
  {
   "cell_type": "code",
   "execution_count": 97,
   "metadata": {},
   "outputs": [
    {
     "name": "stderr",
     "output_type": "stream",
     "text": [
      "/home/tntech.edu/ambecklehi42/.conda/envs/tf-2.0/lib/python3.7/site-packages/sklearn/metrics/classification.py:1437: UndefinedMetricWarning: Precision and F-score are ill-defined and being set to 0.0 in labels with no predicted samples.\n",
      "  'precision', 'predicted', average, warn_for)\n"
     ]
    },
    {
     "name": "stdout",
     "output_type": "stream",
     "text": [
      "(array([0.91015417, 0.        ]), array([1., 0.]), array([0.9529641, 0.       ]), array([159216,  15717]))\n",
      "[[159216      0]\n",
      " [ 15717      0]]\n",
      "~~~~~~~~~~~~~~~~~~~~~~~~~~~~~~~~~~~~~~~~~~~~~~~~~~~~~~~\n",
      "~~~~~~~~~~~~~~~~~~~~~~~~~~~~~~~~~~~~~~~~~~~~~~~~~~~~~~~\n",
      "(array([0.90834076, 0.08677997]), array([0.6270915 , 0.35897436]), array([0.74195754, 0.13977109]), array([159216,  15717]))\n",
      "[[99843 59373]\n",
      " [10075  5642]]\n"
     ]
    }
   ],
   "source": [
    "clf = KNeighborsClassifier(n_neighbors = 547)\n",
    "\n",
    "run_transfer_model(clf, Chem_X, Chem_y, Bio_X, Bio_y)\n",
    "print(\"~~~~~~~~~~~~~~~~~~~~~~~~~~~~~~~~~~~~~~~~~~~~~~~~~~~~~~~\")\n",
    "print(\"~~~~~~~~~~~~~~~~~~~~~~~~~~~~~~~~~~~~~~~~~~~~~~~~~~~~~~~\")\n",
    "run_transfer_model(clf, Chem_X_res, Chem_y_res, Bio_X, Bio_y)"
   ]
  },
  {
   "cell_type": "code",
   "execution_count": 98,
   "metadata": {},
   "outputs": [
    {
     "name": "stderr",
     "output_type": "stream",
     "text": [
      "/home/tntech.edu/ambecklehi42/.conda/envs/tf-2.0/lib/python3.7/site-packages/sklearn/metrics/classification.py:1437: UndefinedMetricWarning: Precision and F-score are ill-defined and being set to 0.0 in labels with no predicted samples.\n",
      "  'precision', 'predicted', average, warn_for)\n"
     ]
    },
    {
     "name": "stdout",
     "output_type": "stream",
     "text": [
      "(array([0.91015417, 0.        ]), array([1., 0.]), array([0.9529641, 0.       ]), array([159216,  15717]))\n",
      "[[159216      0]\n",
      " [ 15717      0]]\n",
      "~~~~~~~~~~~~~~~~~~~~~~~~~~~~~~~~~~~~~~~~~~~~~~~~~~~~~~~\n",
      "~~~~~~~~~~~~~~~~~~~~~~~~~~~~~~~~~~~~~~~~~~~~~~~~~~~~~~~\n",
      "(array([0.92538125, 0.09292735]), array([0.17112602, 0.86021505]), array([0.28883859, 0.16773465]), array([159216,  15717]))\n",
      "[[ 27246 131970]\n",
      " [  2197  13520]]\n"
     ]
    }
   ],
   "source": [
    "clf = BernoulliNB()\n",
    "\n",
    "run_transfer_model(clf, Chem_X, Chem_y, Bio_X, Bio_y)\n",
    "print(\"~~~~~~~~~~~~~~~~~~~~~~~~~~~~~~~~~~~~~~~~~~~~~~~~~~~~~~~\")\n",
    "print(\"~~~~~~~~~~~~~~~~~~~~~~~~~~~~~~~~~~~~~~~~~~~~~~~~~~~~~~~\")\n",
    "run_transfer_model(clf, Chem_X_res, Chem_y_res, Bio_X, Bio_y)"
   ]
  },
  {
   "cell_type": "code",
   "execution_count": 99,
   "metadata": {},
   "outputs": [
    {
     "name": "stdout",
     "output_type": "stream",
     "text": [
      "(array([0.90859046, 0.042814  ]), array([0.96615918, 0.01533372]), array([0.93649093, 0.02258034]), array([159216,  15717]))\n",
      "[[153828   5388]\n",
      " [ 15476    241]]\n",
      "~~~~~~~~~~~~~~~~~~~~~~~~~~~~~~~~~~~~~~~~~~~~~~~~~~~~~~~\n",
      "~~~~~~~~~~~~~~~~~~~~~~~~~~~~~~~~~~~~~~~~~~~~~~~~~~~~~~~\n",
      "(array([0.90017386, 0.06538848]), array([0.70240428, 0.21091811]), array([0.78908598, 0.09982835]), array([159216,  15717]))\n",
      "[[111834  47382]\n",
      " [ 12402   3315]]\n"
     ]
    }
   ],
   "source": [
    "clf = MLPClassifier(solver='lbfgs', alpha=1e-5, random_state=1)\n",
    "\n",
    "run_transfer_model(clf, Chem_X, Chem_y, Bio_X, Bio_y)\n",
    "print(\"~~~~~~~~~~~~~~~~~~~~~~~~~~~~~~~~~~~~~~~~~~~~~~~~~~~~~~~\")\n",
    "print(\"~~~~~~~~~~~~~~~~~~~~~~~~~~~~~~~~~~~~~~~~~~~~~~~~~~~~~~~\")\n",
    "run_transfer_model(clf, Chem_X_res, Chem_y_res, Bio_X, Bio_y)"
   ]
  },
  {
   "cell_type": "code",
   "execution_count": 100,
   "metadata": {},
   "outputs": [
    {
     "name": "stderr",
     "output_type": "stream",
     "text": [
      "/home/tntech.edu/ambecklehi42/.conda/envs/tf-2.0/lib/python3.7/site-packages/sklearn/metrics/classification.py:1437: UndefinedMetricWarning: Precision and F-score are ill-defined and being set to 0.0 in labels with no predicted samples.\n",
      "  'precision', 'predicted', average, warn_for)\n"
     ]
    },
    {
     "name": "stdout",
     "output_type": "stream",
     "text": [
      "(array([0.91015417, 0.        ]), array([1., 0.]), array([0.9529641, 0.       ]), array([159216,  15717]))\n",
      "[[159216      0]\n",
      " [ 15717      0]]\n",
      "~~~~~~~~~~~~~~~~~~~~~~~~~~~~~~~~~~~~~~~~~~~~~~~~~~~~~~~\n",
      "~~~~~~~~~~~~~~~~~~~~~~~~~~~~~~~~~~~~~~~~~~~~~~~~~~~~~~~\n",
      "(array([0.9054337 , 0.08197071]), array([0.62198523, 0.34192276]), array([0.7374092 , 0.13223913]), array([159216,  15717]))\n",
      "[[99030 60186]\n",
      " [10343  5374]]\n"
     ]
    }
   ],
   "source": [
    "clf = RandomForestClassifier(n_estimators=100, max_depth=2, random_state=0)\n",
    "\n",
    "run_transfer_model(clf, Chem_X, Chem_y, Bio_X, Bio_y)\n",
    "print(\"~~~~~~~~~~~~~~~~~~~~~~~~~~~~~~~~~~~~~~~~~~~~~~~~~~~~~~~\")\n",
    "print(\"~~~~~~~~~~~~~~~~~~~~~~~~~~~~~~~~~~~~~~~~~~~~~~~~~~~~~~~\")\n",
    "run_transfer_model(clf, Chem_X_res, Chem_y_res, Bio_X, Bio_y)"
   ]
  },
  {
   "cell_type": "markdown",
   "metadata": {},
   "source": [
    "***\n",
    "### Chem -> Astro\n",
    "***"
   ]
  },
  {
   "cell_type": "code",
   "execution_count": 101,
   "metadata": {},
   "outputs": [
    {
     "name": "stdout",
     "output_type": "stream",
     "text": [
      "(array([0.92789231, 0.07046015]), array([0.92759537, 0.07075083]), array([0.92774381, 0.07060519]), array([62496,  4848]))\n",
      "[[57971  4525]\n",
      " [ 4505   343]]\n",
      "~~~~~~~~~~~~~~~~~~~~~~~~~~~~~~~~~~~~~~~~~~~~~~~~~~~~~~~\n",
      "~~~~~~~~~~~~~~~~~~~~~~~~~~~~~~~~~~~~~~~~~~~~~~~~~~~~~~~\n",
      "(array([0.92843541, 0.07567257]), array([0.89719342, 0.10849835]), array([0.9125471, 0.0891601]), array([62496,  4848]))\n",
      "[[56071  6425]\n",
      " [ 4322   526]]\n"
     ]
    }
   ],
   "source": [
    "clf = DecisionTreeClassifier(random_state=37)\n",
    "\n",
    "run_transfer_model(clf, Chem_X, Chem_y, Astro_X, Astro_y)\n",
    "print(\"~~~~~~~~~~~~~~~~~~~~~~~~~~~~~~~~~~~~~~~~~~~~~~~~~~~~~~~\")\n",
    "print(\"~~~~~~~~~~~~~~~~~~~~~~~~~~~~~~~~~~~~~~~~~~~~~~~~~~~~~~~\")\n",
    "run_transfer_model(clf, Chem_X_res, Chem_y_res, Astro_X, Astro_y)"
   ]
  },
  {
   "cell_type": "code",
   "execution_count": 102,
   "metadata": {},
   "outputs": [
    {
     "name": "stderr",
     "output_type": "stream",
     "text": [
      "/home/tntech.edu/ambecklehi42/.conda/envs/tf-2.0/lib/python3.7/site-packages/sklearn/metrics/classification.py:1437: UndefinedMetricWarning: Precision and F-score are ill-defined and being set to 0.0 in labels with no predicted samples.\n",
      "  'precision', 'predicted', average, warn_for)\n"
     ]
    },
    {
     "name": "stdout",
     "output_type": "stream",
     "text": [
      "(array([0.9280114, 0.       ]), array([1., 0.]), array([0.96266174, 0.        ]), array([62496,  4848]))\n",
      "[[62496     0]\n",
      " [ 4848     0]]\n",
      "~~~~~~~~~~~~~~~~~~~~~~~~~~~~~~~~~~~~~~~~~~~~~~~~~~~~~~~\n",
      "~~~~~~~~~~~~~~~~~~~~~~~~~~~~~~~~~~~~~~~~~~~~~~~~~~~~~~~\n",
      "(array([0.93220599, 0.07781246]), array([0.58394137, 0.45255776]), array([0.71807485, 0.13279264]), array([62496,  4848]))\n",
      "[[36494 26002]\n",
      " [ 2654  2194]]\n"
     ]
    }
   ],
   "source": [
    "clf = KNeighborsClassifier(n_neighbors = 547)\n",
    "\n",
    "run_transfer_model(clf, Chem_X, Chem_y, Astro_X, Astro_y)\n",
    "print(\"~~~~~~~~~~~~~~~~~~~~~~~~~~~~~~~~~~~~~~~~~~~~~~~~~~~~~~~\")\n",
    "print(\"~~~~~~~~~~~~~~~~~~~~~~~~~~~~~~~~~~~~~~~~~~~~~~~~~~~~~~~\")\n",
    "run_transfer_model(clf, Chem_X_res, Chem_y_res, Astro_X, Astro_y)"
   ]
  },
  {
   "cell_type": "code",
   "execution_count": 103,
   "metadata": {},
   "outputs": [
    {
     "name": "stdout",
     "output_type": "stream",
     "text": [
      "(array([0.9280114, 0.       ]), array([1., 0.]), array([0.96266174, 0.        ]), array([62496,  4848]))\n",
      "[[62496     0]\n",
      " [ 4848     0]]\n",
      "~~~~~~~~~~~~~~~~~~~~~~~~~~~~~~~~~~~~~~~~~~~~~~~~~~~~~~~\n",
      "~~~~~~~~~~~~~~~~~~~~~~~~~~~~~~~~~~~~~~~~~~~~~~~~~~~~~~~\n",
      "(array([0.94785276, 0.07617609]), array([0.17799539, 0.87376238]), array([0.29970902, 0.14013497]), array([62496,  4848]))\n",
      "[[11124 51372]\n",
      " [  612  4236]]\n"
     ]
    },
    {
     "name": "stderr",
     "output_type": "stream",
     "text": [
      "/home/tntech.edu/ambecklehi42/.conda/envs/tf-2.0/lib/python3.7/site-packages/sklearn/metrics/classification.py:1437: UndefinedMetricWarning: Precision and F-score are ill-defined and being set to 0.0 in labels with no predicted samples.\n",
      "  'precision', 'predicted', average, warn_for)\n"
     ]
    }
   ],
   "source": [
    "clf = BernoulliNB()\n",
    "\n",
    "run_transfer_model(clf, Chem_X, Chem_y, Astro_X, Astro_y)\n",
    "print(\"~~~~~~~~~~~~~~~~~~~~~~~~~~~~~~~~~~~~~~~~~~~~~~~~~~~~~~~\")\n",
    "print(\"~~~~~~~~~~~~~~~~~~~~~~~~~~~~~~~~~~~~~~~~~~~~~~~~~~~~~~~\")\n",
    "run_transfer_model(clf, Chem_X_res, Chem_y_res, Astro_X, Astro_y)"
   ]
  },
  {
   "cell_type": "code",
   "execution_count": 104,
   "metadata": {},
   "outputs": [
    {
     "name": "stdout",
     "output_type": "stream",
     "text": [
      "(array([0.92731704, 0.03643411]), array([0.98011073, 0.00969472]), array([0.95298327, 0.01531443]), array([62496,  4848]))\n",
      "[[61253  1243]\n",
      " [ 4801    47]]\n",
      "~~~~~~~~~~~~~~~~~~~~~~~~~~~~~~~~~~~~~~~~~~~~~~~~~~~~~~~\n",
      "~~~~~~~~~~~~~~~~~~~~~~~~~~~~~~~~~~~~~~~~~~~~~~~~~~~~~~~\n",
      "(array([0.92855866, 0.07360989]), array([0.74807988, 0.25804455]), array([0.82860561, 0.11454471]), array([62496,  4848]))\n",
      "[[46752 15744]\n",
      " [ 3597  1251]]\n"
     ]
    }
   ],
   "source": [
    "clf = MLPClassifier(solver='lbfgs', alpha=1e-5, random_state=1)\n",
    "\n",
    "run_transfer_model(clf, Chem_X, Chem_y, Astro_X, Astro_y)\n",
    "print(\"~~~~~~~~~~~~~~~~~~~~~~~~~~~~~~~~~~~~~~~~~~~~~~~~~~~~~~~\")\n",
    "print(\"~~~~~~~~~~~~~~~~~~~~~~~~~~~~~~~~~~~~~~~~~~~~~~~~~~~~~~~\")\n",
    "run_transfer_model(clf, Chem_X_res, Chem_y_res, Astro_X, Astro_y)"
   ]
  },
  {
   "cell_type": "code",
   "execution_count": 105,
   "metadata": {},
   "outputs": [
    {
     "name": "stderr",
     "output_type": "stream",
     "text": [
      "/home/tntech.edu/ambecklehi42/.conda/envs/tf-2.0/lib/python3.7/site-packages/sklearn/metrics/classification.py:1437: UndefinedMetricWarning: Precision and F-score are ill-defined and being set to 0.0 in labels with no predicted samples.\n",
      "  'precision', 'predicted', average, warn_for)\n"
     ]
    },
    {
     "name": "stdout",
     "output_type": "stream",
     "text": [
      "(array([0.9280114, 0.       ]), array([1., 0.]), array([0.96266174, 0.        ]), array([62496,  4848]))\n",
      "[[62496     0]\n",
      " [ 4848     0]]\n",
      "~~~~~~~~~~~~~~~~~~~~~~~~~~~~~~~~~~~~~~~~~~~~~~~~~~~~~~~\n",
      "~~~~~~~~~~~~~~~~~~~~~~~~~~~~~~~~~~~~~~~~~~~~~~~~~~~~~~~\n",
      "(array([0.93793936, 0.08494182]), array([0.57216462, 0.5119637 ]), array([0.71075333, 0.14570858]), array([62496,  4848]))\n",
      "[[35758 26738]\n",
      " [ 2366  2482]]\n"
     ]
    }
   ],
   "source": [
    "clf = RandomForestClassifier(n_estimators=100, max_depth=2, random_state=0)\n",
    "\n",
    "run_transfer_model(clf, Chem_X, Chem_y, Astro_X, Astro_y)\n",
    "print(\"~~~~~~~~~~~~~~~~~~~~~~~~~~~~~~~~~~~~~~~~~~~~~~~~~~~~~~~\")\n",
    "print(\"~~~~~~~~~~~~~~~~~~~~~~~~~~~~~~~~~~~~~~~~~~~~~~~~~~~~~~~\")\n",
    "run_transfer_model(clf, Chem_X_res, Chem_y_res, Astro_X, Astro_y)"
   ]
  },
  {
   "cell_type": "markdown",
   "metadata": {},
   "source": [
    "***\n",
    "### Chem -> Others\n",
    "***"
   ]
  },
  {
   "cell_type": "code",
   "execution_count": 106,
   "metadata": {},
   "outputs": [
    {
     "name": "stdout",
     "output_type": "stream",
     "text": [
      "(array([0.9576461 , 0.05285412]), array([0.9130266 , 0.10729614]), array([0.93480421, 0.07082153]), array([5151,  233]))\n",
      "[[4703  448]\n",
      " [ 208   25]]\n",
      "~~~~~~~~~~~~~~~~~~~~~~~~~~~~~~~~~~~~~~~~~~~~~~~~~~~~~~~\n",
      "~~~~~~~~~~~~~~~~~~~~~~~~~~~~~~~~~~~~~~~~~~~~~~~~~~~~~~~\n",
      "(array([0.96010266, 0.0564663 ]), array([0.79887401, 0.26609442]), array([0.87209918, 0.09316304]), array([5151,  233]))\n",
      "[[4115 1036]\n",
      " [ 171   62]]\n"
     ]
    }
   ],
   "source": [
    "clf = DecisionTreeClassifier(random_state=37)\n",
    "\n",
    "run_transfer_model(clf, Chem_X, Chem_y, Others_X, Others_y)\n",
    "print(\"~~~~~~~~~~~~~~~~~~~~~~~~~~~~~~~~~~~~~~~~~~~~~~~~~~~~~~~\")\n",
    "print(\"~~~~~~~~~~~~~~~~~~~~~~~~~~~~~~~~~~~~~~~~~~~~~~~~~~~~~~~\")\n",
    "run_transfer_model(clf, Chem_X_res, Chem_y_res, Others_X, Others_y)"
   ]
  },
  {
   "cell_type": "code",
   "execution_count": 107,
   "metadata": {},
   "outputs": [
    {
     "name": "stderr",
     "output_type": "stream",
     "text": [
      "/home/tntech.edu/ambecklehi42/.conda/envs/tf-2.0/lib/python3.7/site-packages/sklearn/metrics/classification.py:1437: UndefinedMetricWarning: Precision and F-score are ill-defined and being set to 0.0 in labels with no predicted samples.\n",
      "  'precision', 'predicted', average, warn_for)\n"
     ]
    },
    {
     "name": "stdout",
     "output_type": "stream",
     "text": [
      "(array([0.95672363, 0.        ]), array([1., 0.]), array([0.97788325, 0.        ]), array([5151,  233]))\n",
      "[[5151    0]\n",
      " [ 233    0]]\n",
      "~~~~~~~~~~~~~~~~~~~~~~~~~~~~~~~~~~~~~~~~~~~~~~~~~~~~~~~\n",
      "~~~~~~~~~~~~~~~~~~~~~~~~~~~~~~~~~~~~~~~~~~~~~~~~~~~~~~~\n",
      "(array([0.94930556, 0.04056795]), array([0.26538536, 0.68669528]), array([0.41480807, 0.07661001]), array([5151,  233]))\n",
      "[[1367 3784]\n",
      " [  73  160]]\n"
     ]
    }
   ],
   "source": [
    "clf = KNeighborsClassifier(n_neighbors = 547)\n",
    "\n",
    "run_transfer_model(clf, Chem_X, Chem_y, Others_X, Others_y)\n",
    "print(\"~~~~~~~~~~~~~~~~~~~~~~~~~~~~~~~~~~~~~~~~~~~~~~~~~~~~~~~\")\n",
    "print(\"~~~~~~~~~~~~~~~~~~~~~~~~~~~~~~~~~~~~~~~~~~~~~~~~~~~~~~~\")\n",
    "run_transfer_model(clf, Chem_X_res, Chem_y_res, Others_X, Others_y)"
   ]
  },
  {
   "cell_type": "code",
   "execution_count": 108,
   "metadata": {},
   "outputs": [
    {
     "name": "stdout",
     "output_type": "stream",
     "text": [
      "(array([0.95672363, 0.        ]), array([1., 0.]), array([0.97788325, 0.        ]), array([5151,  233]))\n",
      "[[5151    0]\n",
      " [ 233    0]]\n",
      "~~~~~~~~~~~~~~~~~~~~~~~~~~~~~~~~~~~~~~~~~~~~~~~~~~~~~~~\n",
      "~~~~~~~~~~~~~~~~~~~~~~~~~~~~~~~~~~~~~~~~~~~~~~~~~~~~~~~\n",
      "(array([0.97780374, 0.04726148]), array([0.16249272, 0.91845494]), array([0.27867488, 0.08989708]), array([5151,  233]))\n",
      "[[ 837 4314]\n",
      " [  19  214]]\n"
     ]
    },
    {
     "name": "stderr",
     "output_type": "stream",
     "text": [
      "/home/tntech.edu/ambecklehi42/.conda/envs/tf-2.0/lib/python3.7/site-packages/sklearn/metrics/classification.py:1437: UndefinedMetricWarning: Precision and F-score are ill-defined and being set to 0.0 in labels with no predicted samples.\n",
      "  'precision', 'predicted', average, warn_for)\n"
     ]
    }
   ],
   "source": [
    "clf = BernoulliNB()\n",
    "\n",
    "run_transfer_model(clf, Chem_X, Chem_y, Others_X, Others_y)\n",
    "print(\"~~~~~~~~~~~~~~~~~~~~~~~~~~~~~~~~~~~~~~~~~~~~~~~~~~~~~~~\")\n",
    "print(\"~~~~~~~~~~~~~~~~~~~~~~~~~~~~~~~~~~~~~~~~~~~~~~~~~~~~~~~\")\n",
    "run_transfer_model(clf, Chem_X_res, Chem_y_res, Others_X, Others_y)"
   ]
  },
  {
   "cell_type": "code",
   "execution_count": 109,
   "metadata": {},
   "outputs": [
    {
     "name": "stdout",
     "output_type": "stream",
     "text": [
      "(array([0.95685612, 0.05660377]), array([0.99029315, 0.01287554]), array([0.97328754, 0.02097902]), array([5151,  233]))\n",
      "[[5101   50]\n",
      " [ 230    3]]\n",
      "~~~~~~~~~~~~~~~~~~~~~~~~~~~~~~~~~~~~~~~~~~~~~~~~~~~~~~~\n",
      "~~~~~~~~~~~~~~~~~~~~~~~~~~~~~~~~~~~~~~~~~~~~~~~~~~~~~~~\n",
      "(array([0.95846154, 0.04784367]), array([0.72568433, 0.30472103]), array([0.82598608, 0.08270239]), array([5151,  233]))\n",
      "[[3738 1413]\n",
      " [ 162   71]]\n"
     ]
    }
   ],
   "source": [
    "clf = MLPClassifier(solver='lbfgs', alpha=1e-5, random_state=1)\n",
    "\n",
    "run_transfer_model(clf, Chem_X, Chem_y, Others_X, Others_y)\n",
    "print(\"~~~~~~~~~~~~~~~~~~~~~~~~~~~~~~~~~~~~~~~~~~~~~~~~~~~~~~~\")\n",
    "print(\"~~~~~~~~~~~~~~~~~~~~~~~~~~~~~~~~~~~~~~~~~~~~~~~~~~~~~~~\")\n",
    "run_transfer_model(clf, Chem_X_res, Chem_y_res, Others_X, Others_y)"
   ]
  },
  {
   "cell_type": "code",
   "execution_count": 110,
   "metadata": {},
   "outputs": [
    {
     "name": "stderr",
     "output_type": "stream",
     "text": [
      "/home/tntech.edu/ambecklehi42/.conda/envs/tf-2.0/lib/python3.7/site-packages/sklearn/metrics/classification.py:1437: UndefinedMetricWarning: Precision and F-score are ill-defined and being set to 0.0 in labels with no predicted samples.\n",
      "  'precision', 'predicted', average, warn_for)\n"
     ]
    },
    {
     "name": "stdout",
     "output_type": "stream",
     "text": [
      "(array([0.95672363, 0.        ]), array([1., 0.]), array([0.97788325, 0.        ]), array([5151,  233]))\n",
      "[[5151    0]\n",
      " [ 233    0]]\n",
      "~~~~~~~~~~~~~~~~~~~~~~~~~~~~~~~~~~~~~~~~~~~~~~~~~~~~~~~\n",
      "~~~~~~~~~~~~~~~~~~~~~~~~~~~~~~~~~~~~~~~~~~~~~~~~~~~~~~~\n",
      "(array([0.97539016, 0.05164067]), array([0.31547272, 0.82403433]), array([0.4767493 , 0.09719058]), array([5151,  233]))\n",
      "[[1625 3526]\n",
      " [  41  192]]\n"
     ]
    }
   ],
   "source": [
    "clf = RandomForestClassifier(n_estimators=100, max_depth=2, random_state=0)\n",
    "\n",
    "run_transfer_model(clf, Chem_X, Chem_y, Others_X, Others_y)\n",
    "print(\"~~~~~~~~~~~~~~~~~~~~~~~~~~~~~~~~~~~~~~~~~~~~~~~~~~~~~~~\")\n",
    "print(\"~~~~~~~~~~~~~~~~~~~~~~~~~~~~~~~~~~~~~~~~~~~~~~~~~~~~~~~\")\n",
    "run_transfer_model(clf, Chem_X_res, Chem_y_res, Others_X, Others_y)"
   ]
  },
  {
   "cell_type": "code",
   "execution_count": null,
   "metadata": {},
   "outputs": [],
   "source": []
  },
  {
   "cell_type": "code",
   "execution_count": null,
   "metadata": {},
   "outputs": [],
   "source": []
  }
 ],
 "metadata": {
  "kernelspec": {
   "display_name": "Python 3",
   "language": "python",
   "name": "python3"
  },
  "language_info": {
   "codemirror_mode": {
    "name": "ipython",
    "version": 3
   },
   "file_extension": ".py",
   "mimetype": "text/x-python",
   "name": "python",
   "nbconvert_exporter": "python",
   "pygments_lexer": "ipython3",
   "version": "3.7.1"
  }
 },
 "nbformat": 4,
 "nbformat_minor": 4
}
